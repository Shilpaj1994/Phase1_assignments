{
 "cells": [
  {
   "cell_type": "markdown",
   "metadata": {},
   "source": [
    "### Initialization:"
   ]
  },
  {
   "cell_type": "code",
   "execution_count": 1,
   "metadata": {},
   "outputs": [
    {
     "name": "stderr",
     "output_type": "stream",
     "text": [
      "Using TensorFlow backend.\n"
     ]
    }
   ],
   "source": [
    "import keras\n",
    "import imgaug as ia\n",
    "from imgaug import augmenters as iaa\n",
    "from imgaug import parameters as iap\n",
    "import numpy as np\n",
    "import cv2\n",
    "import imageio\n",
    "\n",
    "from keras.models import Sequential, Model\n",
    "from keras.layers import Dense, Dropout, Activation, Flatten, Add, Input\n",
    "# from keras.layers.convolutional import Conv2D\n",
    "from keras.layers import Conv2D,MaxPooling2D, BatchNormalization\n",
    "from keras.utils import np_utils\n",
    "\n",
    "from keras.datasets import mnist"
   ]
  },
  {
   "cell_type": "markdown",
   "metadata": {},
   "source": [
    "### Load the Dataset:"
   ]
  },
  {
   "cell_type": "code",
   "execution_count": 2,
   "metadata": {},
   "outputs": [
    {
     "name": "stdout",
     "output_type": "stream",
     "text": [
      "60000 60000\n"
     ]
    }
   ],
   "source": [
    "(X_train, Y_train),(X_test, Y_test) = mnist.load_data()\n",
    "print(len(X_train), len(Y_train))"
   ]
  },
  {
   "cell_type": "markdown",
   "metadata": {},
   "source": [
    "### Data Augumentation"
   ]
  },
  {
   "cell_type": "code",
   "execution_count": 3,
   "metadata": {},
   "outputs": [],
   "source": [
    "augmented_X, augmented_Y = [], []\n",
    "\n",
    "blurer = iaa.GaussianBlur(3.0)\n",
    "noise = iaa.AdditiveGaussianNoise(scale=0.1*255)\n",
    "coarse_dropout = iaa.CoarseDropout(p=0.2, size_percent=0.05)\n",
    "\n",
    "for image,label in zip(X_train, Y_train):\n",
    "    augmented_X.append(image)\n",
    "    augmented_Y.append(label)\n",
    "    \n",
    "    augmented_X.append(noise.augment_image(image))\n",
    "    augmented_Y.append(label)\n",
    "\n",
    "    augmented_X.append(coarse_dropout.augment_image(image))\n",
    "    augmented_Y.append(label)\n",
    "\n",
    "    augmented_X.append(cv2.GaussianBlur(image,(3,3),3))\n",
    "    augmented_Y.append(label)\n",
    "    \n",
    "    augmented_X.append(cv2.equalizeHist(image))\n",
    "    augmented_Y.append(label)"
   ]
  },
  {
   "cell_type": "markdown",
   "metadata": {},
   "source": [
    "### Data Conversion"
   ]
  },
  {
   "cell_type": "code",
   "execution_count": 4,
   "metadata": {},
   "outputs": [
    {
     "name": "stdout",
     "output_type": "stream",
     "text": [
      "240000 240000\n"
     ]
    }
   ],
   "source": [
    "# Convert Images and Steering values to numpy arrays since keras requires them in that form\n",
    "X_train = np.array(augmented_X)\n",
    "Y_train = np.array(augmented_Y)\n",
    "print(len(X_train), len(Y_train))"
   ]
  },
  {
   "cell_type": "markdown",
   "metadata": {},
   "source": [
    "### Data Sample:"
   ]
  },
  {
   "cell_type": "code",
   "execution_count": 5,
   "metadata": {},
   "outputs": [
    {
     "name": "stdout",
     "output_type": "stream",
     "text": [
      "(240000, 28, 28)\n",
      "7\n"
     ]
    },
    {
     "data": {
      "text/plain": [
       "<matplotlib.image.AxesImage at 0x1a86b4750b8>"
      ]
     },
     "execution_count": 5,
     "metadata": {},
     "output_type": "execute_result"
    },
    {
     "data": {
      "image/png": "[encoded data removed]",
      "text/plain": [
       "<Figure size 432x288 with 1 Axes>"
      ]
     },
     "metadata": {},
     "output_type": "display_data"
    }
   ],
   "source": [
    "from matplotlib import pyplot as plt\n",
    "%matplotlib inline\n",
    "\n",
    "print(X_train.shape)\n",
    "print(Y_train[60000-1])\n",
    "# print(X_train.shape)\n",
    "plt.imshow(X_train[60000-1], cmap='gray')\n",
    "# plt.imshow(X_train[120000-1], cmap='gray')\n",
    "# plt.imshow(X_train[180000-1], cmap='gray')\n",
    "# plt.imshow(X_train[240000-1], cmap='gray')"
   ]
  },
  {
   "cell_type": "markdown",
   "metadata": {},
   "source": [
    "### Reshape the Input:\n",
    "    We need to reshape the input as new Keras API expects us to mention the total color-channels as well (1 in our case as we have grayscale images)."
   ]
  },
  {
   "cell_type": "code",
   "execution_count": 6,
   "metadata": {},
   "outputs": [],
   "source": [
    "X_train = X_train.reshape(X_train.shape[0], 28, 28, 1)\n",
    "# print(X_train.shape)\n",
    "X_test = X_test.reshape(X_test.shape[0], 28, 28, 1)"
   ]
  },
  {
   "cell_type": "markdown",
   "metadata": {},
   "source": [
    "### Conversion and Normalization:\n",
    "All images are stored as unit8, however, we work with floats in neural network. So first thing we do is to convert our images from uint8 to float32. Then, we convert our images from 0-255 scale to 0-1. This is called normalization. We usually do this because:\n",
    "\n",
    "- 0-1 is easier to deal with.\n",
    "- keeping other variables within a range (0-1) becomes easier if inputs are also between (0-1).\n",
    "- keeping values between (0-1) also, sort of, adds an in-built threshold (0.9*0.9 = 0.81, but 229*229 = 52441)."
   ]
  },
  {
   "cell_type": "code",
   "execution_count": 7,
   "metadata": {},
   "outputs": [],
   "source": [
    "X_train = X_train.astype('float32')\n",
    "X_test = X_test.astype('float32')\n",
    "\n",
    "X_train = X_train / 255\n",
    "X_test = X_test / 255"
   ]
  },
  {
   "cell_type": "markdown",
   "metadata": {},
   "source": [
    "### One Hot Encoding:"
   ]
  },
  {
   "cell_type": "code",
   "execution_count": 8,
   "metadata": {},
   "outputs": [],
   "source": [
    "num_classes = 10\n",
    "\n",
    "y_train = np_utils.to_categorical(Y_train, num_classes)\n",
    "y_test = np_utils.to_categorical(Y_test, num_classes)"
   ]
  },
  {
   "cell_type": "markdown",
   "metadata": {},
   "source": [
    "### Model:"
   ]
  },
  {
   "cell_type": "code",
   "execution_count": 18,
   "metadata": {},
   "outputs": [
    {
     "name": "stdout",
     "output_type": "stream",
     "text": [
      "_________________________________________________________________\n",
      "Layer (type)                 Output Shape              Param #   \n",
      "=================================================================\n",
      "input_7 (InputLayer)         (None, 28, 28, 1)         0         \n",
      "_________________________________________________________________\n",
      "conv_1 (Conv2D)              (None, 26, 26, 32)        320       \n",
      "_________________________________________________________________\n",
      "norm_1 (BatchNormalization)  (None, 26, 26, 32)        128       \n",
      "_________________________________________________________________\n",
      "activation_19 (Activation)   (None, 26, 26, 32)        0         \n",
      "_________________________________________________________________\n",
      "dropout_47 (Dropout)         (None, 26, 26, 32)        0         \n",
      "_________________________________________________________________\n",
      "conv_2 (Conv2D)              (None, 24, 24, 32)        9248      \n",
      "_________________________________________________________________\n",
      "norm_2 (BatchNormalization)  (None, 24, 24, 32)        128       \n",
      "_________________________________________________________________\n",
      "activation_20 (Activation)   (None, 24, 24, 32)        0         \n",
      "_________________________________________________________________\n",
      "dropout_48 (Dropout)         (None, 24, 24, 32)        0         \n",
      "_________________________________________________________________\n",
      "conv_3 (Conv2D)              (None, 24, 24, 32)        1056      \n",
      "_________________________________________________________________\n",
      "norm_3 (BatchNormalization)  (None, 24, 24, 32)        128       \n",
      "_________________________________________________________________\n",
      "dropout_49 (Dropout)         (None, 24, 24, 32)        0         \n",
      "_________________________________________________________________\n",
      "max_pooling2d_13 (MaxPooling (None, 12, 12, 32)        0         \n",
      "_________________________________________________________________\n",
      "conv_4 (Conv2D)              (None, 10, 10, 16)        4624      \n",
      "_________________________________________________________________\n",
      "norm_4 (BatchNormalization)  (None, 10, 10, 16)        64        \n",
      "_________________________________________________________________\n",
      "dropout_50 (Dropout)         (None, 10, 10, 16)        0         \n",
      "_________________________________________________________________\n",
      "conv_5 (Conv2D)              (None, 10, 10, 16)        272       \n",
      "_________________________________________________________________\n",
      "norm_5 (BatchNormalization)  (None, 10, 10, 16)        64        \n",
      "_________________________________________________________________\n",
      "activation_21 (Activation)   (None, 10, 10, 16)        0         \n",
      "_________________________________________________________________\n",
      "dropout_51 (Dropout)         (None, 10, 10, 16)        0         \n",
      "_________________________________________________________________\n",
      "conv_6 (Conv2D)              (None, 8, 8, 10)          1450      \n",
      "_________________________________________________________________\n",
      "norm_6 (BatchNormalization)  (None, 8, 8, 10)          40        \n",
      "_________________________________________________________________\n",
      "dropout_52 (Dropout)         (None, 8, 8, 10)          0         \n",
      "_________________________________________________________________\n",
      "conv_7 (Conv2D)              (None, 6, 6, 10)          910       \n",
      "_________________________________________________________________\n",
      "norm_7 (BatchNormalization)  (None, 6, 6, 10)          40        \n",
      "_________________________________________________________________\n",
      "dropout_53 (Dropout)         (None, 6, 6, 10)          0         \n",
      "_________________________________________________________________\n",
      "max_pooling2d_14 (MaxPooling (None, 3, 3, 10)          0         \n",
      "_________________________________________________________________\n",
      "conv_8 (Conv2D)              (None, 1, 1, 10)          910       \n",
      "_________________________________________________________________\n",
      "norm_8 (BatchNormalization)  (None, 1, 1, 10)          40        \n",
      "_________________________________________________________________\n",
      "dropout_54 (Dropout)         (None, 1, 1, 10)          0         \n",
      "_________________________________________________________________\n",
      "flatten_7 (Flatten)          (None, 10)                0         \n",
      "_________________________________________________________________\n",
      "dense_7 (Dense)              (None, 10)                110       \n",
      "=================================================================\n",
      "Total params: 19,532\n",
      "Trainable params: 19,216\n",
      "Non-trainable params: 316\n",
      "_________________________________________________________________\n"
     ]
    }
   ],
   "source": [
    "input1 = Input(shape=(28, 28, 1,))\n",
    "\n",
    "# Layer 1: Input => [28x28x1],1\n",
    "#          Output => [26x26x**],**\n",
    "layer1 = Conv2D(32, (3,3), name='conv_1')(input1)\n",
    "layer1 = BatchNormalization(name='norm_1')(layer1)\n",
    "layer1 = Activation('relu')(layer1)\n",
    "layer1 = Dropout(0.2)(layer1)\n",
    "\n",
    "# Layer 2: Input => [26x26x**],**\n",
    "#          Output => [24x24x**],**\n",
    "layer2 = Conv2D(32, (3,3), name='conv_2')(layer1)\n",
    "layer2 = BatchNormalization(name='norm_2')(layer2)\n",
    "layer2 = Activation('relu')(layer2)\n",
    "layer2 = Dropout(0.2)(layer2)\n",
    "\n",
    "# Layer 3: Input => [24x24x**],**\n",
    "#          Output => [12x12x**],**\n",
    "layer3 = Conv2D(32, (1,1), name='conv_3')(layer2)\n",
    "layer3 = BatchNormalization(name='norm_3')(layer3)\n",
    "layer3 = Dropout(0.2)(layer3)\n",
    "layer3 = MaxPooling2D(pool_size=(2, 2))(layer3)\n",
    "\n",
    "# Layer 4: Input => [12x12x**],**\n",
    "#          Output => [10x10x**],**\n",
    "layer4 = Conv2D(16, (3,3), name='conv_4')(layer3)\n",
    "layer4 = BatchNormalization(name='norm_4')(layer4)\n",
    "layer4 = Dropout(0.2)(layer4)\n",
    "\n",
    "# Layer 5: Input => [10x10x**],**\n",
    "#          Output => [10x10x**],**\n",
    "layer5 = Conv2D(16, (1,1), name='conv_5')(layer4)\n",
    "layer5 = BatchNormalization(name='norm_5')(layer5)\n",
    "layer5 = Activation('relu')(layer5)\n",
    "layer5 = Dropout(0.2)(layer5)\n",
    "\n",
    "# Layer 6: Input => [10x10x**],**\n",
    "#          Output => [8x8x**],**\n",
    "layer6 = Conv2D(10, (3,3), name='conv_6')(layer5)\n",
    "layer6 = BatchNormalization(name='norm_6')(layer6)\n",
    "layer6 = Dropout(0.2)(layer6)\n",
    "\n",
    "# Layer 7: Input => [8x8x**],**\n",
    "#          Output => [3x3x**],**\n",
    "layer7 = Conv2D(10, (3,3), name='conv_7')(layer6)\n",
    "layer7 = BatchNormalization(name='norm_7')(layer7)\n",
    "layer7 = Dropout(0.2)(layer7)\n",
    "layer7 = MaxPooling2D(pool_size=(2, 2))(layer7)\n",
    "\n",
    "# Layer 8: Input => [3x3x**],**\n",
    "#          Output => [1x1x**],**\n",
    "layer8 = Conv2D(10, (3,3), name='conv_8')(layer7)\n",
    "layer8 = BatchNormalization(name='norm_8')(layer8)\n",
    "layer8 = Dropout(0.2)(layer8)\n",
    "\n",
    "# Layer 9\n",
    "layer9 = Flatten()(layer8)\n",
    "output = Dense(num_classes, activation='softmax')(layer9)\n",
    "\n",
    "model = Model(inputs=[input1], outputs=[output])\n",
    "model.summary()"
   ]
  },
  {
   "cell_type": "markdown",
   "metadata": {},
   "source": [
    "### Compile Model:"
   ]
  },
  {
   "cell_type": "code",
   "execution_count": 19,
   "metadata": {},
   "outputs": [],
   "source": [
    "model.compile(loss='categorical_crossentropy',\n",
    "             optimizer='sgd',\n",
    "             metrics=['accuracy'])"
   ]
  },
  {
   "cell_type": "markdown",
   "metadata": {},
   "source": [
    "### Train the Model:"
   ]
  },
  {
   "cell_type": "code",
   "execution_count": 20,
   "metadata": {},
   "outputs": [
    {
     "name": "stdout",
     "output_type": "stream",
     "text": [
      "Epoch 1/30\n",
      "240000/240000 [==============================] - 68s 281us/step - loss: 0.6800 - acc: 0.7903\n",
      "Epoch 2/30\n",
      "240000/240000 [==============================] - 68s 284us/step - loss: 0.3457 - acc: 0.8900\n",
      "Epoch 3/30\n",
      "240000/240000 [==============================] - 69s 289us/step - loss: 0.2838 - acc: 0.9090\n",
      "Epoch 4/30\n",
      "240000/240000 [==============================] - 69s 288us/step - loss: 0.2504 - acc: 0.9206\n",
      "Epoch 5/30\n",
      "240000/240000 [==============================] - 69s 287us/step - loss: 0.2294 - acc: 0.9270\n",
      "Epoch 6/30\n",
      "240000/240000 [==============================] - 69s 286us/step - loss: 0.2141 - acc: 0.9323\n",
      "Epoch 7/30\n",
      "240000/240000 [==============================] - 69s 287us/step - loss: 0.2044 - acc: 0.9357\n",
      "Epoch 8/30\n",
      "240000/240000 [==============================] - 69s 286us/step - loss: 0.1935 - acc: 0.9382\n",
      "Epoch 9/30\n",
      "240000/240000 [==============================] - 69s 286us/step - loss: 0.1869 - acc: 0.9409\n",
      "Epoch 10/30\n",
      "240000/240000 [==============================] - 68s 285us/step - loss: 0.1809 - acc: 0.9428\n",
      "Epoch 11/30\n",
      "240000/240000 [==============================] - 68s 285us/step - loss: 0.1763 - acc: 0.9443\n",
      "Epoch 12/30\n",
      "240000/240000 [==============================] - 68s 285us/step - loss: 0.1691 - acc: 0.9468\n",
      "Epoch 13/30\n",
      "240000/240000 [==============================] - 68s 285us/step - loss: 0.1662 - acc: 0.9478\n",
      "Epoch 14/30\n",
      "240000/240000 [==============================] - 68s 285us/step - loss: 0.1634 - acc: 0.9481\n",
      "Epoch 15/30\n",
      "240000/240000 [==============================] - 68s 285us/step - loss: 0.1593 - acc: 0.9497\n",
      "Epoch 16/30\n",
      "240000/240000 [==============================] - 68s 285us/step - loss: 0.1555 - acc: 0.9508\n",
      "Epoch 17/30\n",
      "240000/240000 [==============================] - 68s 285us/step - loss: 0.1543 - acc: 0.9515\n",
      "Epoch 18/30\n",
      "240000/240000 [==============================] - 68s 285us/step - loss: 0.1525 - acc: 0.9519\n",
      "Epoch 19/30\n",
      "240000/240000 [==============================] - 69s 285us/step - loss: 0.1494 - acc: 0.9534\n",
      "Epoch 20/30\n",
      "240000/240000 [==============================] - 68s 285us/step - loss: 0.1481 - acc: 0.9535\n",
      "Epoch 21/30\n",
      "240000/240000 [==============================] - 69s 286us/step - loss: 0.1481 - acc: 0.9533\n",
      "Epoch 22/30\n",
      "240000/240000 [==============================] - 69s 286us/step - loss: 0.1463 - acc: 0.9541\n",
      "Epoch 23/30\n",
      "240000/240000 [==============================] - 69s 286us/step - loss: 0.1441 - acc: 0.9546\n",
      "Epoch 24/30\n",
      "240000/240000 [==============================] - 69s 285us/step - loss: 0.1429 - acc: 0.9556\n",
      "Epoch 25/30\n",
      "240000/240000 [==============================] - 69s 286us/step - loss: 0.1405 - acc: 0.9558\n",
      "Epoch 26/30\n",
      "240000/240000 [==============================] - 68s 285us/step - loss: 0.1375 - acc: 0.9564\n",
      "Epoch 27/30\n",
      "240000/240000 [==============================] - 69s 286us/step - loss: 0.1373 - acc: 0.9569\n",
      "Epoch 28/30\n",
      "240000/240000 [==============================] - 69s 285us/step - loss: 0.1375 - acc: 0.9568\n",
      "Epoch 29/30\n",
      "240000/240000 [==============================] - 69s 285us/step - loss: 0.1370 - acc: 0.9569\n",
      "Epoch 30/30\n",
      "240000/240000 [==============================] - 68s 285us/step - loss: 0.1344 - acc: 0.9574\n"
     ]
    },
    {
     "data": {
      "text/plain": [
       "<keras.callbacks.History at 0x1a8418c3b70>"
      ]
     },
     "execution_count": 20,
     "metadata": {},
     "output_type": "execute_result"
    }
   ],
   "source": [
    "model.fit(X_train, y_train, batch_size=64, epochs=30, verbose=1)"
   ]
  },
  {
   "cell_type": "markdown",
   "metadata": {},
   "source": [
    "### Evalute:"
   ]
  },
  {
   "cell_type": "code",
   "execution_count": 21,
   "metadata": {},
   "outputs": [
    {
     "name": "stdout",
     "output_type": "stream",
     "text": [
      "98.83999999999999 %\n"
     ]
    }
   ],
   "source": [
    "score = model.evaluate(X_test, y_test, verbose=0)\n",
    "print(score[1]*100, '%')"
   ]
  },
  {
   "cell_type": "code",
   "execution_count": 22,
   "metadata": {},
   "outputs": [
    {
     "name": "stdout",
     "output_type": "stream",
     "text": [
      "[3.3624464e-04 2.0137848e-03 9.9753881e-01 4.4218341e-05 1.2840595e-06\n",
      " 1.6649578e-08 6.3711464e-05 1.4252525e-06 9.1663026e-08 3.8095584e-07]\n",
      "[0. 0. 1. 0. 0. 0. 0. 0. 0. 0.]\n"
     ]
    },
    {
     "data": {
      "text/plain": [
       "<matplotlib.image.AxesImage at 0x1a9dbd2be10>"
      ]
     },
     "execution_count": 22,
     "metadata": {},
     "output_type": "execute_result"
    },
    {
     "data": {
      "image/png": "[encoded data removed]",
      "text/plain": [
       "<Figure size 432x288 with 1 Axes>"
      ]
     },
     "metadata": {},
     "output_type": "display_data"
    }
   ],
   "source": [
    "# manual test\n",
    "y_pred = model.predict(X_test)\n",
    "print(y_pred[1])\n",
    "print(y_test[1])\n",
    "\n",
    "X_test = X_test.reshape(X_test.shape[0], 28, 28)\n",
    "X_test *= 255\n",
    "%matplotlib inline\n",
    "plt.imshow(X_test[1], cmap='gray')"
   ]
  },
  {
   "cell_type": "markdown",
   "metadata": {},
   "source": [
    "### Save Model:"
   ]
  },
  {
   "cell_type": "code",
   "execution_count": 23,
   "metadata": {},
   "outputs": [],
   "source": [
    "model.save('version2.h5')"
   ]
  }
 ],
 "metadata": {
  "kernelspec": {
   "display_name": "GPU",
   "language": "python",
   "name": "gpu"
  },
  "language_info": {
   "codemirror_mode": {
    "name": "ipython",
    "version": 3
   },
   "file_extension": ".py",
   "mimetype": "text/x-python",
   "name": "python",
   "nbconvert_exporter": "python",
   "pygments_lexer": "ipython3",
   "version": "3.6.5"
  }
 },
 "nbformat": 4,
 "nbformat_minor": 2
}
