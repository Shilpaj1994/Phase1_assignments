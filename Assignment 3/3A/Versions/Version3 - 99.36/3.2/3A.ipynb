{
 "cells": [
  {
   "cell_type": "markdown",
   "metadata": {},
   "source": [
    "### Initialization:"
   ]
  },
  {
   "cell_type": "code",
   "execution_count": 1,
   "metadata": {},
   "outputs": [
    {
     "name": "stderr",
     "output_type": "stream",
     "text": [
      "Using TensorFlow backend.\n"
     ]
    }
   ],
   "source": [
    "import keras\n",
    "import imgaug as ia\n",
    "from imgaug import augmenters as iaa\n",
    "from imgaug import parameters as iap\n",
    "import numpy as np\n",
    "import cv2\n",
    "import imageio\n",
    "\n",
    "from keras.models import Sequential, Model\n",
    "from keras.layers import Dense, Dropout, Activation, Flatten, Add, Input\n",
    "from keras.layers import Conv2D,MaxPooling2D, BatchNormalization\n",
    "from keras.utils import np_utils\n",
    "\n",
    "from keras.datasets import mnist"
   ]
  },
  {
   "cell_type": "markdown",
   "metadata": {},
   "source": [
    "### Load the Dataset:"
   ]
  },
  {
   "cell_type": "code",
   "execution_count": 2,
   "metadata": {},
   "outputs": [
    {
     "name": "stdout",
     "output_type": "stream",
     "text": [
      "60000 60000\n"
     ]
    }
   ],
   "source": [
    "(X_train, Y_train),(X_test, Y_test) = mnist.load_data()\n",
    "print(len(X_train), len(Y_train))"
   ]
  },
  {
   "cell_type": "markdown",
   "metadata": {},
   "source": [
    "### Data Augumentation"
   ]
  },
  {
   "cell_type": "code",
   "execution_count": 3,
   "metadata": {},
   "outputs": [],
   "source": [
    "augmented_X, augmented_Y = [], []\n",
    "\n",
    "blurer = iaa.GaussianBlur(3.0)\n",
    "noise = iaa.AdditiveGaussianNoise(scale=0.1*255)\n",
    "coarse_dropout = iaa.CoarseDropout(p=0.2, size_percent=0.05)\n",
    "\n",
    "for image,label in zip(X_train, Y_train):\n",
    "    augmented_X.append(image)\n",
    "    augmented_Y.append(label)\n",
    "    \n",
    "    augmented_X.append(noise.augment_image(image))\n",
    "    augmented_Y.append(label)\n",
    "\n",
    "    augmented_X.append(coarse_dropout.augment_image(image))\n",
    "    augmented_Y.append(label)\n",
    "\n",
    "    augmented_X.append(cv2.GaussianBlur(image,(3,3),3))\n",
    "    augmented_Y.append(label)\n",
    "    \n",
    "    augmented_X.append(cv2.equalizeHist(image))\n",
    "    augmented_Y.append(label)"
   ]
  },
  {
   "cell_type": "markdown",
   "metadata": {},
   "source": [
    "### Data Conversion"
   ]
  },
  {
   "cell_type": "code",
   "execution_count": 4,
   "metadata": {},
   "outputs": [
    {
     "name": "stdout",
     "output_type": "stream",
     "text": [
      "300000 300000\n"
     ]
    }
   ],
   "source": [
    "# Convert Images and Steering values to numpy arrays since keras requires them in that form\n",
    "X_train = np.array(augmented_X)\n",
    "Y_train = np.array(augmented_Y)\n",
    "print(len(X_train), len(Y_train))"
   ]
  },
  {
   "cell_type": "markdown",
   "metadata": {},
   "source": [
    "### Data Sample:"
   ]
  },
  {
   "cell_type": "code",
   "execution_count": 5,
   "metadata": {},
   "outputs": [
    {
     "name": "stdout",
     "output_type": "stream",
     "text": [
      "(300000, 28, 28)\n",
      "4\n"
     ]
    },
    {
     "data": {
      "text/plain": [
       "<matplotlib.image.AxesImage at 0x18bd178afd0>"
      ]
     },
     "execution_count": 5,
     "metadata": {},
     "output_type": "execute_result"
    },
    {
     "data": {
      "image/png": "[encoded data removed]",
      "text/plain": [
       "<Figure size 432x288 with 1 Axes>"
      ]
     },
     "metadata": {},
     "output_type": "display_data"
    }
   ],
   "source": [
    "from matplotlib import pyplot as plt\n",
    "%matplotlib inline\n",
    "\n",
    "print(X_train.shape)\n",
    "print(Y_train[100])\n",
    "plt.imshow(X_train[100], cmap='gray')"
   ]
  },
  {
   "cell_type": "markdown",
   "metadata": {},
   "source": [
    "### Reshape the Input:\n",
    "    We need to reshape the input as new Keras API expects us to mention the total color-channels as well (1 in our case as we have grayscale images)."
   ]
  },
  {
   "cell_type": "code",
   "execution_count": 6,
   "metadata": {},
   "outputs": [],
   "source": [
    "X_train = X_train.reshape(X_train.shape[0], 28, 28, 1)\n",
    "X_test = X_test.reshape(X_test.shape[0], 28, 28, 1)"
   ]
  },
  {
   "cell_type": "markdown",
   "metadata": {},
   "source": [
    "### Conversion and Normalization:\n",
    "All images are stored as unit8, however, we work with floats in neural network. So first thing we do is to convert our images from uint8 to float32. Then, we convert our images from 0-255 scale to 0-1. This is called normalization. We usually do this because:\n",
    "\n",
    "- 0-1 is easier to deal with.\n",
    "- keeping other variables within a range (0-1) becomes easier if inputs are also between (0-1).\n",
    "- keeping values between (0-1) also, sort of, adds an in-built threshold (0.9*0.9 = 0.81, but 229*229 = 52441)."
   ]
  },
  {
   "cell_type": "code",
   "execution_count": 7,
   "metadata": {},
   "outputs": [],
   "source": [
    "X_train = X_train.astype('float32')\n",
    "X_test = X_test.astype('float32')\n",
    "\n",
    "X_train = X_train / 255\n",
    "X_test = X_test / 255"
   ]
  },
  {
   "cell_type": "markdown",
   "metadata": {},
   "source": [
    "### One Hot Encoding:"
   ]
  },
  {
   "cell_type": "code",
   "execution_count": 8,
   "metadata": {},
   "outputs": [],
   "source": [
    "num_classes = 10\n",
    "\n",
    "y_train = np_utils.to_categorical(Y_train, num_classes)\n",
    "y_test = np_utils.to_categorical(Y_test, num_classes)"
   ]
  },
  {
   "cell_type": "markdown",
   "metadata": {},
   "source": [
    "### Model:"
   ]
  },
  {
   "cell_type": "code",
   "execution_count": 9,
   "metadata": {},
   "outputs": [
    {
     "name": "stdout",
     "output_type": "stream",
     "text": [
      "_________________________________________________________________\n",
      "Layer (type)                 Output Shape              Param #   \n",
      "=================================================================\n",
      "input_1 (InputLayer)         (None, 28, 28, 1)         0         \n",
      "_________________________________________________________________\n",
      "conv_1 (Conv2D)              (None, 26, 26, 32)        320       \n",
      "_________________________________________________________________\n",
      "norm_1 (BatchNormalization)  (None, 26, 26, 32)        128       \n",
      "_________________________________________________________________\n",
      "activation_1 (Activation)    (None, 26, 26, 32)        0         \n",
      "_________________________________________________________________\n",
      "dropout_1 (Dropout)          (None, 26, 26, 32)        0         \n",
      "_________________________________________________________________\n",
      "conv_2 (Conv2D)              (None, 24, 24, 32)        9248      \n",
      "_________________________________________________________________\n",
      "norm_2 (BatchNormalization)  (None, 24, 24, 32)        128       \n",
      "_________________________________________________________________\n",
      "activation_2 (Activation)    (None, 24, 24, 32)        0         \n",
      "_________________________________________________________________\n",
      "dropout_2 (Dropout)          (None, 24, 24, 32)        0         \n",
      "_________________________________________________________________\n",
      "conv_3 (Conv2D)              (None, 24, 24, 16)        528       \n",
      "_________________________________________________________________\n",
      "norm_3 (BatchNormalization)  (None, 24, 24, 16)        64        \n",
      "_________________________________________________________________\n",
      "activation_3 (Activation)    (None, 24, 24, 16)        0         \n",
      "_________________________________________________________________\n",
      "max_pooling2d_1 (MaxPooling2 (None, 12, 12, 16)        0         \n",
      "_________________________________________________________________\n",
      "conv_4 (Conv2D)              (None, 10, 10, 32)        4640      \n",
      "_________________________________________________________________\n",
      "norm_4 (BatchNormalization)  (None, 10, 10, 32)        128       \n",
      "_________________________________________________________________\n",
      "activation_4 (Activation)    (None, 10, 10, 32)        0         \n",
      "_________________________________________________________________\n",
      "dropout_3 (Dropout)          (None, 10, 10, 32)        0         \n",
      "_________________________________________________________________\n",
      "conv_5 (Conv2D)              (None, 10, 10, 16)        528       \n",
      "_________________________________________________________________\n",
      "norm_5 (BatchNormalization)  (None, 10, 10, 16)        64        \n",
      "_________________________________________________________________\n",
      "activation_5 (Activation)    (None, 10, 10, 16)        0         \n",
      "_________________________________________________________________\n",
      "dropout_4 (Dropout)          (None, 10, 10, 16)        0         \n",
      "_________________________________________________________________\n",
      "conv_6 (Conv2D)              (None, 8, 8, 10)          1450      \n",
      "_________________________________________________________________\n",
      "norm_6 (BatchNormalization)  (None, 8, 8, 10)          40        \n",
      "_________________________________________________________________\n",
      "activation_6 (Activation)    (None, 8, 8, 10)          0         \n",
      "_________________________________________________________________\n",
      "dropout_5 (Dropout)          (None, 8, 8, 10)          0         \n",
      "_________________________________________________________________\n",
      "conv_7 (Conv2D)              (None, 6, 6, 10)          910       \n",
      "_________________________________________________________________\n",
      "norm_7 (BatchNormalization)  (None, 6, 6, 10)          40        \n",
      "_________________________________________________________________\n",
      "activation_7 (Activation)    (None, 6, 6, 10)          0         \n",
      "_________________________________________________________________\n",
      "dropout_6 (Dropout)          (None, 6, 6, 10)          0         \n",
      "_________________________________________________________________\n",
      "conv_8 (Conv2D)              (None, 6, 6, 10)          110       \n",
      "_________________________________________________________________\n",
      "norm_8 (BatchNormalization)  (None, 6, 6, 10)          40        \n",
      "_________________________________________________________________\n",
      "activation_8 (Activation)    (None, 6, 6, 10)          0         \n",
      "_________________________________________________________________\n",
      "max_pooling2d_2 (MaxPooling2 (None, 3, 3, 10)          0         \n",
      "_________________________________________________________________\n",
      "conv_9 (Conv2D)              (None, 1, 1, 10)          910       \n",
      "_________________________________________________________________\n",
      "norm_9 (BatchNormalization)  (None, 1, 1, 10)          40        \n",
      "_________________________________________________________________\n",
      "activation_9 (Activation)    (None, 1, 1, 10)          0         \n",
      "_________________________________________________________________\n",
      "flatten_1 (Flatten)          (None, 10)                0         \n",
      "_________________________________________________________________\n",
      "dense_1 (Dense)              (None, 10)                110       \n",
      "=================================================================\n",
      "Total params: 19,426\n",
      "Trainable params: 19,090\n",
      "Non-trainable params: 336\n",
      "_________________________________________________________________\n"
     ]
    }
   ],
   "source": [
    "input1 = Input(shape=(28, 28, 1,))\n",
    "\n",
    "# Layer 1: Input => [28x28x1]     Output => [26x26x32]\n",
    "layer1 = Conv2D(32, (3,3), name='conv_1')(input1)\n",
    "layer1 = BatchNormalization(name='norm_1')(layer1)\n",
    "layer1 = Activation('relu')(layer1) \n",
    "layer1 = Dropout(0.1)(layer1)\n",
    "\n",
    "# Layer 2: Input => [26x26x32]     Output => [24x24x32]\n",
    "layer2 = Conv2D(32, (3,3), name='conv_2')(layer1)\n",
    "layer2 = BatchNormalization(name='norm_2')(layer2)\n",
    "layer2 = Activation('relu')(layer2)\n",
    "layer2 = Dropout(0.1)(layer2)\n",
    "\n",
    "# Layer 3: Input => [24x24x32]     Output => [12x12x16]\n",
    "layer3 = Conv2D(16, (1,1), name='conv_3')(layer2)\n",
    "layer3 = BatchNormalization(name='norm_3')(layer3)\n",
    "layer3 = Activation('relu')(layer3)\n",
    "layer3 = MaxPooling2D(pool_size=(2, 2))(layer3)\n",
    "\n",
    "# Layer 4: Input => [12x12x16]     Output => [10x10x32]\n",
    "layer4 = Conv2D(32, (3,3), name='conv_4')(layer3)\n",
    "layer4 = BatchNormalization(name='norm_4')(layer4)\n",
    "layer4 = Activation('relu')(layer4)\n",
    "layer4 = Dropout(0.1)(layer4)\n",
    "\n",
    "# Layer 5: Input => [10x10x32]     Output => [10x10x16]\n",
    "layer5 = Conv2D(16, (1,1), name='conv_5')(layer4)\n",
    "layer5 = BatchNormalization(name='norm_5')(layer5)\n",
    "layer5 = Activation('relu')(layer5)\n",
    "layer5 = Dropout(0.1)(layer5)\n",
    "\n",
    "# Layer 6: Input => [10x10x16]     Output => [8x8x10]\n",
    "layer6 = Conv2D(10, (3,3), name='conv_6')(layer5)\n",
    "layer6 = BatchNormalization(name='norm_6')(layer6)\n",
    "layer6 = Activation('relu')(layer6)\n",
    "layer6 = Dropout(0.1)(layer6)\n",
    "\n",
    "# Layer 7: Input => [8x8x10]     Output => [6x6x10]\n",
    "layer7 = Conv2D(10, (3,3), name='conv_7')(layer6)\n",
    "layer7 = BatchNormalization(name='norm_7')(layer7)\n",
    "layer7 = Activation('relu')(layer7)\n",
    "layer7 = Dropout(0.1)(layer7)\n",
    "\n",
    "# Layer 8: Input => [6x6x10]     Output => [3x3x10]\n",
    "layer8 = Conv2D(10, (1,1), name='conv_8')(layer7)\n",
    "layer8 = BatchNormalization(name='norm_8')(layer8)\n",
    "layer8 = Activation('relu')(layer8)\n",
    "layer8 = MaxPooling2D(pool_size=(2, 2))(layer8)\n",
    "\n",
    "# Layer 9: Input => [3x3x10]     Output => [1x1x10]\n",
    "layer9 = Conv2D(10, (3,3), name='conv_9')(layer8)\n",
    "layer9 = BatchNormalization(name='norm_9')(layer9)\n",
    "layer9 = Activation('relu')(layer9)\n",
    "\n",
    "# Layer 10\n",
    "layer10 = Flatten()(layer9)\n",
    "output = Dense(num_classes, activation='softmax')(layer10)\n",
    "\n",
    "model = Model(inputs=[input1], outputs=[output])\n",
    "model.summary()"
   ]
  },
  {
   "cell_type": "markdown",
   "metadata": {},
   "source": [
    "### Compile Model:"
   ]
  },
  {
   "cell_type": "code",
   "execution_count": 10,
   "metadata": {},
   "outputs": [],
   "source": [
    "model.compile(loss='categorical_crossentropy',\n",
    "             optimizer='sgd',\n",
    "             metrics=['accuracy'])"
   ]
  },
  {
   "cell_type": "markdown",
   "metadata": {},
   "source": [
    "### Train the Model:"
   ]
  },
  {
   "cell_type": "code",
   "execution_count": 11,
   "metadata": {},
   "outputs": [
    {
     "name": "stdout",
     "output_type": "stream",
     "text": [
      "Epoch 1/50\n",
      "300000/300000 [==============================] - 84s 279us/step - loss: 0.5537 - acc: 0.8471\n",
      "Epoch 2/50\n",
      "300000/300000 [==============================] - 83s 278us/step - loss: 0.1668 - acc: 0.9501\n",
      "Epoch 3/50\n",
      "300000/300000 [==============================] - 87s 291us/step - loss: 0.1303 - acc: 0.9594\n",
      "Epoch 4/50\n",
      "300000/300000 [==============================] - 87s 290us/step - loss: 0.1124 - acc: 0.9648\n",
      "Epoch 5/50\n",
      "300000/300000 [==============================] - 87s 289us/step - loss: 0.1002 - acc: 0.9685\n",
      "Epoch 6/50\n",
      "300000/300000 [==============================] - 87s 290us/step - loss: 0.0936 - acc: 0.9704\n",
      "Epoch 7/50\n",
      "300000/300000 [==============================] - 87s 289us/step - loss: 0.0880 - acc: 0.9722\n",
      "Epoch 8/50\n",
      "300000/300000 [==============================] - 87s 290us/step - loss: 0.0832 - acc: 0.9733\n",
      "Epoch 9/50\n",
      "300000/300000 [==============================] - 87s 290us/step - loss: 0.0794 - acc: 0.9748\n",
      "Epoch 10/50\n",
      "300000/300000 [==============================] - 86s 288us/step - loss: 0.0765 - acc: 0.9755\n",
      "Epoch 11/50\n",
      "300000/300000 [==============================] - 87s 289us/step - loss: 0.0733 - acc: 0.9766\n",
      "Epoch 12/50\n",
      "300000/300000 [==============================] - 87s 289us/step - loss: 0.0710 - acc: 0.9774\n",
      "Epoch 13/50\n",
      "300000/300000 [==============================] - 87s 289us/step - loss: 0.0695 - acc: 0.9777\n",
      "Epoch 14/50\n",
      "300000/300000 [==============================] - 87s 289us/step - loss: 0.0686 - acc: 0.97810s - loss: 0.0685 - acc\n",
      "Epoch 15/50\n",
      "300000/300000 [==============================] - 87s 290us/step - loss: 0.0670 - acc: 0.9783\n",
      "Epoch 16/50\n",
      "300000/300000 [==============================] - 87s 289us/step - loss: 0.0650 - acc: 0.9792\n",
      "Epoch 17/50\n",
      "300000/300000 [==============================] - 87s 289us/step - loss: 0.0630 - acc: 0.9796\n",
      "Epoch 18/50\n",
      "300000/300000 [==============================] - 87s 290us/step - loss: 0.0619 - acc: 0.9799\n",
      "Epoch 19/50\n",
      "300000/300000 [==============================] - 87s 289us/step - loss: 0.0608 - acc: 0.9805\n",
      "Epoch 20/50\n",
      "300000/300000 [==============================] - 87s 289us/step - loss: 0.0593 - acc: 0.9811\n",
      "Epoch 21/50\n",
      "300000/300000 [==============================] - 87s 290us/step - loss: 0.0596 - acc: 0.9807\n",
      "Epoch 22/50\n",
      "300000/300000 [==============================] - 87s 289us/step - loss: 0.0580 - acc: 0.9811\n",
      "Epoch 23/50\n",
      "300000/300000 [==============================] - 87s 290us/step - loss: 0.0559 - acc: 0.9818\n",
      "Epoch 24/50\n",
      "300000/300000 [==============================] - 87s 289us/step - loss: 0.0562 - acc: 0.9819\n",
      "Epoch 25/50\n",
      "300000/300000 [==============================] - 87s 289us/step - loss: 0.0555 - acc: 0.9821\n",
      "Epoch 26/50\n",
      "300000/300000 [==============================] - 86s 288us/step - loss: 0.0552 - acc: 0.9821\n",
      "Epoch 27/50\n",
      "300000/300000 [==============================] - 87s 289us/step - loss: 0.0551 - acc: 0.9823\n",
      "Epoch 28/50\n",
      "300000/300000 [==============================] - 87s 289us/step - loss: 0.0538 - acc: 0.9826\n",
      "Epoch 29/50\n",
      "300000/300000 [==============================] - 87s 289us/step - loss: 0.0528 - acc: 0.9829\n",
      "Epoch 30/50\n",
      "300000/300000 [==============================] - 86s 288us/step - loss: 0.0520 - acc: 0.9832\n",
      "Epoch 31/50\n",
      "300000/300000 [==============================] - 86s 288us/step - loss: 0.0514 - acc: 0.9836\n",
      "Epoch 32/50\n",
      "300000/300000 [==============================] - 86s 287us/step - loss: 0.0513 - acc: 0.9835\n",
      "Epoch 33/50\n",
      "300000/300000 [==============================] - 86s 287us/step - loss: 0.0505 - acc: 0.9837\n",
      "Epoch 34/50\n",
      "300000/300000 [==============================] - 86s 288us/step - loss: 0.0508 - acc: 0.9837\n",
      "Epoch 35/50\n",
      "300000/300000 [==============================] - 86s 288us/step - loss: 0.0498 - acc: 0.9838\n",
      "Epoch 36/50\n",
      "300000/300000 [==============================] - 86s 288us/step - loss: 0.0493 - acc: 0.9841\n",
      "Epoch 37/50\n",
      "300000/300000 [==============================] - 86s 288us/step - loss: 0.0488 - acc: 0.9843\n",
      "Epoch 38/50\n",
      "300000/300000 [==============================] - 87s 288us/step - loss: 0.0483 - acc: 0.9845\n",
      "Epoch 39/50\n",
      "300000/300000 [==============================] - 86s 288us/step - loss: 0.0482 - acc: 0.9842\n",
      "Epoch 40/50\n",
      "300000/300000 [==============================] - 86s 287us/step - loss: 0.0481 - acc: 0.9842\n",
      "Epoch 41/50\n",
      "300000/300000 [==============================] - 87s 291us/step - loss: 0.0485 - acc: 0.9845\n",
      "Epoch 42/50\n",
      "300000/300000 [==============================] - 87s 289us/step - loss: 0.0467 - acc: 0.9848\n",
      "Epoch 43/50\n",
      "300000/300000 [==============================] - 86s 287us/step - loss: 0.0474 - acc: 0.9846\n",
      "Epoch 44/50\n",
      "300000/300000 [==============================] - 87s 289us/step - loss: 0.0474 - acc: 0.9847\n",
      "Epoch 45/50\n",
      "300000/300000 [==============================] - 86s 288us/step - loss: 0.0466 - acc: 0.9847\n",
      "Epoch 46/50\n",
      "300000/300000 [==============================] - 86s 288us/step - loss: 0.0452 - acc: 0.9852\n",
      "Epoch 47/50\n",
      "300000/300000 [==============================] - 86s 288us/step - loss: 0.0455 - acc: 0.9850\n",
      "Epoch 48/50\n",
      "300000/300000 [==============================] - 86s 287us/step - loss: 0.0456 - acc: 0.9851\n",
      "Epoch 49/50\n",
      "300000/300000 [==============================] - 87s 289us/step - loss: 0.0445 - acc: 0.9856\n",
      "Epoch 50/50\n",
      "300000/300000 [==============================] - 86s 287us/step - loss: 0.0443 - acc: 0.9855\n"
     ]
    },
    {
     "data": {
      "text/plain": [
       "<keras.callbacks.History at 0x18bd17f5668>"
      ]
     },
     "execution_count": 11,
     "metadata": {},
     "output_type": "execute_result"
    }
   ],
   "source": [
    "model.fit(X_train, y_train, batch_size=64, epochs=50, verbose=1)"
   ]
  },
  {
   "cell_type": "markdown",
   "metadata": {},
   "source": [
    "### Evalute:"
   ]
  },
  {
   "cell_type": "code",
   "execution_count": 12,
   "metadata": {},
   "outputs": [
    {
     "name": "stdout",
     "output_type": "stream",
     "text": [
      "99.36 %\n"
     ]
    }
   ],
   "source": [
    "score = model.evaluate(X_test, y_test, verbose=0)\n",
    "print(score[1]*100, '%')"
   ]
  },
  {
   "cell_type": "code",
   "execution_count": 13,
   "metadata": {},
   "outputs": [
    {
     "name": "stdout",
     "output_type": "stream",
     "text": [
      "[3.2475189e-05 2.3538649e-05 9.9987519e-01 1.1500372e-06 1.1634226e-06\n",
      " 1.8158968e-08 3.4824247e-05 6.2463293e-08 3.1438529e-05 1.5922950e-08]\n",
      "[0. 0. 1. 0. 0. 0. 0. 0. 0. 0.]\n"
     ]
    },
    {
     "data": {
      "text/plain": [
       "<matplotlib.image.AxesImage at 0x18c17f48438>"
      ]
     },
     "execution_count": 13,
     "metadata": {},
     "output_type": "execute_result"
    },
    {
     "data": {
      "image/png": "[encoded data removed]",
      "text/plain": [
       "<Figure size 432x288 with 1 Axes>"
      ]
     },
     "metadata": {},
     "output_type": "display_data"
    }
   ],
   "source": [
    "# manual test\n",
    "y_pred = model.predict(X_test)\n",
    "print(y_pred[1])\n",
    "print(y_test[1])\n",
    "\n",
    "X_test = X_test.reshape(X_test.shape[0], 28, 28)\n",
    "X_test *= 255\n",
    "%matplotlib inline\n",
    "plt.imshow(X_test[1], cmap='gray')"
   ]
  },
  {
   "cell_type": "markdown",
   "metadata": {},
   "source": [
    "### Save Model:"
   ]
  },
  {
   "cell_type": "code",
   "execution_count": 14,
   "metadata": {},
   "outputs": [],
   "source": [
    "model.save('version3_copy.h5')"
   ]
  }
 ],
 "metadata": {
  "kernelspec": {
   "display_name": "GPU",
   "language": "python",
   "name": "gpu"
  },
  "language_info": {
   "codemirror_mode": {
    "name": "ipython",
    "version": 3
   },
   "file_extension": ".py",
   "mimetype": "text/x-python",
   "name": "python",
   "nbconvert_exporter": "python",
   "pygments_lexer": "ipython3",
   "version": "3.6.5"
  }
 },
 "nbformat": 4,
 "nbformat_minor": 2
}
