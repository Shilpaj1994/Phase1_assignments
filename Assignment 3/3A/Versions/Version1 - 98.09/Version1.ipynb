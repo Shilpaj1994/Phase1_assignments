{
 "cells": [
  {
   "cell_type": "markdown",
   "metadata": {},
   "source": [
    "### Initialization:"
   ]
  },
  {
   "cell_type": "code",
   "execution_count": 1,
   "metadata": {},
   "outputs": [
    {
     "name": "stderr",
     "output_type": "stream",
     "text": [
      "Using TensorFlow backend.\n"
     ]
    }
   ],
   "source": [
    "import keras\n",
    "import imgaug as ia\n",
    "from imgaug import augmenters as iaa\n",
    "from imgaug import parameters as iap\n",
    "import numpy as np\n",
    "import cv2\n",
    "import imageio\n",
    "\n",
    "from keras.models import Sequential, Model\n",
    "from keras.layers import Dense, Dropout, Activation, Flatten, Add, Input\n",
    "# from keras.layers.convolutional import Conv2D\n",
    "from keras.layers import Conv2D,MaxPooling2D, BatchNormalization\n",
    "from keras.utils import np_utils\n",
    "\n",
    "from keras.datasets import mnist"
   ]
  },
  {
   "cell_type": "markdown",
   "metadata": {},
   "source": [
    "### Load the Dataset:"
   ]
  },
  {
   "cell_type": "code",
   "execution_count": 2,
   "metadata": {},
   "outputs": [
    {
     "name": "stdout",
     "output_type": "stream",
     "text": [
      "60000 60000\n"
     ]
    }
   ],
   "source": [
    "(X_train, Y_train),(X_test, Y_test) = mnist.load_data()\n",
    "print(len(X_train), len(Y_train))"
   ]
  },
  {
   "cell_type": "markdown",
   "metadata": {},
   "source": [
    "### Data Augumentation"
   ]
  },
  {
   "cell_type": "code",
   "execution_count": 3,
   "metadata": {},
   "outputs": [],
   "source": [
    "augmented_X, augmented_Y = [], []\n",
    "\n",
    "blurer = iaa.GaussianBlur(3.0)\n",
    "noise = iaa.AdditiveGaussianNoise(scale=0.1*255)\n",
    "coarse_dropout = iaa.CoarseDropout(p=0.2, size_percent=0.05)\n",
    "# perspetive = iaa.PerspectiveTransformation(scale=0.075)\n",
    "\n",
    "for image,label in zip(X_train, Y_train):\n",
    "#     augmented_X.append(image)\n",
    "#     augmented_Y.append(label)\n",
    "    \n",
    "#     augmented_X.append(noise.augment_image(image))\n",
    "#     augmented_Y.append(label)\n",
    "\n",
    "#     augmented_X.append(coarse_dropout.augment_image(image))\n",
    "#     augmented_Y.append(label)\n",
    "\n",
    "#     augmented_X.append(perspetive.augment_image(image))\n",
    "#     augmented_Y.append(label)\n",
    "    \n",
    "#     augmented_X.append(cv2.GaussianBlur(image,(3,3),3))\n",
    "#     augmented_Y.append(label)\n",
    "    \n",
    "    augmented_X.append(cv2.equalizeHist(image))\n",
    "    augmented_Y.append(label)"
   ]
  },
  {
   "cell_type": "markdown",
   "metadata": {},
   "source": [
    "### Data Conversion"
   ]
  },
  {
   "cell_type": "code",
   "execution_count": 4,
   "metadata": {},
   "outputs": [
    {
     "name": "stdout",
     "output_type": "stream",
     "text": [
      "60000 60000\n"
     ]
    }
   ],
   "source": [
    "# Convert Images and Steering values to numpy arrays since keras requires them in that form\n",
    "X_train = np.array(augmented_X)\n",
    "Y_train = np.array(augmented_Y)\n",
    "print(len(X_train), len(Y_train))"
   ]
  },
  {
   "cell_type": "markdown",
   "metadata": {},
   "source": [
    "### Data Sample:"
   ]
  },
  {
   "cell_type": "code",
   "execution_count": 5,
   "metadata": {},
   "outputs": [
    {
     "name": "stdout",
     "output_type": "stream",
     "text": [
      "(60000, 28, 28)\n",
      "8\n"
     ]
    },
    {
     "data": {
      "text/plain": [
       "<matplotlib.image.AxesImage at 0x235dffe6128>"
      ]
     },
     "execution_count": 5,
     "metadata": {},
     "output_type": "execute_result"
    },
    {
     "data": {
      "image/png": "[encoded data removed]",
      "text/plain": [
       "<Figure size 432x288 with 1 Axes>"
      ]
     },
     "metadata": {},
     "output_type": "display_data"
    }
   ],
   "source": [
    "from matplotlib import pyplot as plt\n",
    "%matplotlib inline\n",
    "\n",
    "print(X_train.shape)\n",
    "print(Y_train[60000-1])\n",
    "# print(X_train.shape)\n",
    "plt.imshow(X_train[60000-1], cmap='gray')\n",
    "# plt.imshow(X_train[120000-1], cmap='gray')\n",
    "# plt.imshow(X_train[180000-1], cmap='gray')\n",
    "# plt.imshow(X_train[240000-1], cmap='gray')"
   ]
  },
  {
   "cell_type": "markdown",
   "metadata": {},
   "source": [
    "### Reshape the Input:\n",
    "    We need to reshape the input as new Keras API expects us to mention the total color-channels as well (1 in our case as we have grayscale images)."
   ]
  },
  {
   "cell_type": "code",
   "execution_count": 6,
   "metadata": {},
   "outputs": [],
   "source": [
    "X_train = X_train.reshape(X_train.shape[0], 28, 28, 1)\n",
    "# print(X_train.shape)\n",
    "X_test = X_test.reshape(X_test.shape[0], 28, 28, 1)"
   ]
  },
  {
   "cell_type": "markdown",
   "metadata": {},
   "source": [
    "### Conversion and Normalization:\n",
    "All images are stored as unit8, however, we work with floats in neural network. So first thing we do is to convert our images from uint8 to float32. Then, we convert our images from 0-255 scale to 0-1. This is called normalization. We usually do this because:\n",
    "\n",
    "- 0-1 is easier to deal with.\n",
    "- keeping other variables within a range (0-1) becomes easier if inputs are also between (0-1).\n",
    "- keeping values between (0-1) also, sort of, adds an in-built threshold (0.9*0.9 = 0.81, but 229*229 = 52441)."
   ]
  },
  {
   "cell_type": "code",
   "execution_count": 7,
   "metadata": {},
   "outputs": [],
   "source": [
    "X_train = X_train.astype('float32')\n",
    "X_test = X_test.astype('float32')\n",
    "\n",
    "# X_train = X_train / 255\n",
    "# X_test = X_test / 255"
   ]
  },
  {
   "cell_type": "markdown",
   "metadata": {},
   "source": [
    "### One Hot Encoding:"
   ]
  },
  {
   "cell_type": "code",
   "execution_count": 8,
   "metadata": {},
   "outputs": [],
   "source": [
    "num_classes = 10\n",
    "\n",
    "y_train = np_utils.to_categorical(Y_train, num_classes)\n",
    "y_test = np_utils.to_categorical(Y_test, num_classes)"
   ]
  },
  {
   "cell_type": "markdown",
   "metadata": {},
   "source": [
    "### Model:"
   ]
  },
  {
   "cell_type": "code",
   "execution_count": 9,
   "metadata": {},
   "outputs": [
    {
     "name": "stdout",
     "output_type": "stream",
     "text": [
      "_________________________________________________________________\n",
      "Layer (type)                 Output Shape              Param #   \n",
      "=================================================================\n",
      "input_1 (InputLayer)         (None, 28, 28, 1)         0         \n",
      "_________________________________________________________________\n",
      "conv_1 (Conv2D)              (None, 26, 26, 32)        320       \n",
      "_________________________________________________________________\n",
      "norm_1 (BatchNormalization)  (None, 26, 26, 32)        128       \n",
      "_________________________________________________________________\n",
      "activation_1 (Activation)    (None, 26, 26, 32)        0         \n",
      "_________________________________________________________________\n",
      "dropout_1 (Dropout)          (None, 26, 26, 32)        0         \n",
      "_________________________________________________________________\n",
      "conv_2 (Conv2D)              (None, 24, 24, 16)        4624      \n",
      "_________________________________________________________________\n",
      "norm_2 (BatchNormalization)  (None, 24, 24, 16)        64        \n",
      "_________________________________________________________________\n",
      "activation_2 (Activation)    (None, 24, 24, 16)        0         \n",
      "_________________________________________________________________\n",
      "dropout_2 (Dropout)          (None, 24, 24, 16)        0         \n",
      "_________________________________________________________________\n",
      "conv_3 (Conv2D)              (None, 24, 24, 32)        544       \n",
      "_________________________________________________________________\n",
      "norm_3 (BatchNormalization)  (None, 24, 24, 32)        128       \n",
      "_________________________________________________________________\n",
      "max_pooling2d_1 (MaxPooling2 (None, 12, 12, 32)        0         \n",
      "_________________________________________________________________\n",
      "conv_4 (Conv2D)              (None, 10, 10, 32)        9248      \n",
      "_________________________________________________________________\n",
      "norm_4 (BatchNormalization)  (None, 10, 10, 32)        128       \n",
      "_________________________________________________________________\n",
      "dropout_3 (Dropout)          (None, 10, 10, 32)        0         \n",
      "_________________________________________________________________\n",
      "conv_5 (Conv2D)              (None, 10, 10, 10)        330       \n",
      "_________________________________________________________________\n",
      "norm_5 (BatchNormalization)  (None, 10, 10, 10)        40        \n",
      "_________________________________________________________________\n",
      "activation_3 (Activation)    (None, 10, 10, 10)        0         \n",
      "_________________________________________________________________\n",
      "dropout_4 (Dropout)          (None, 10, 10, 10)        0         \n",
      "_________________________________________________________________\n",
      "conv_6 (Conv2D)              (None, 8, 8, 10)          910       \n",
      "_________________________________________________________________\n",
      "norm_6 (BatchNormalization)  (None, 8, 8, 10)          40        \n",
      "_________________________________________________________________\n",
      "dropout_5 (Dropout)          (None, 8, 8, 10)          0         \n",
      "_________________________________________________________________\n",
      "conv_7 (Conv2D)              (None, 6, 6, 10)          910       \n",
      "_________________________________________________________________\n",
      "norm_7 (BatchNormalization)  (None, 6, 6, 10)          40        \n",
      "_________________________________________________________________\n",
      "dropout_6 (Dropout)          (None, 6, 6, 10)          0         \n",
      "_________________________________________________________________\n",
      "max_pooling2d_2 (MaxPooling2 (None, 3, 3, 10)          0         \n",
      "_________________________________________________________________\n",
      "conv_8 (Conv2D)              (None, 1, 1, 10)          910       \n",
      "_________________________________________________________________\n",
      "norm_8 (BatchNormalization)  (None, 1, 1, 10)          40        \n",
      "_________________________________________________________________\n",
      "dropout_7 (Dropout)          (None, 1, 1, 10)          0         \n",
      "_________________________________________________________________\n",
      "flatten_1 (Flatten)          (None, 10)                0         \n",
      "_________________________________________________________________\n",
      "dense_1 (Dense)              (None, 10)                110       \n",
      "=================================================================\n",
      "Total params: 18,514\n",
      "Trainable params: 18,210\n",
      "Non-trainable params: 304\n",
      "_________________________________________________________________\n"
     ]
    }
   ],
   "source": [
    "input1 = Input(shape=(28, 28, 1,))\n",
    "\n",
    "# Layer 1: Input => [28x28x1],1\n",
    "#          Output => [26x26x**],**\n",
    "layer1 = Conv2D(32, (3,3), name='conv_1')(input1)\n",
    "layer1 = BatchNormalization(name='norm_1')(layer1)\n",
    "layer1 = Activation('relu')(layer1)\n",
    "layer1 = Dropout(0.2)(layer1)\n",
    "\n",
    "# Layer 2: Input => [26x26x**],**\n",
    "#          Output => [24x24x**],**\n",
    "layer2 = Conv2D(16, (3,3), name='conv_2')(layer1)\n",
    "layer2 = BatchNormalization(name='norm_2')(layer2)\n",
    "layer2 = Activation('relu')(layer2)\n",
    "layer2 = Dropout(0.2)(layer2)\n",
    "\n",
    "# Layer 3: Input => [24x24x**],**\n",
    "#          Output => [12x12x**],**\n",
    "layer3 = Conv2D(32, (1,1), name='conv_3')(layer2)\n",
    "layer3 = BatchNormalization(name='norm_3')(layer3)\n",
    "layer3 = MaxPooling2D(pool_size=(2, 2))(layer3)\n",
    "\n",
    "# Layer 4: Input => [12x12x**],**\n",
    "#          Output => [10x10x**],**\n",
    "layer4 = Conv2D(32, (3,3), name='conv_4')(layer3)\n",
    "layer4 = BatchNormalization(name='norm_4')(layer4)\n",
    "layer4 = Dropout(0.2)(layer4)\n",
    "\n",
    "# Layer 5: Input => [10x10x**],**\n",
    "#          Output => [10x10x**],**\n",
    "layer5 = Conv2D(10, (1,1), name='conv_5')(layer4)\n",
    "layer5 = BatchNormalization(name='norm_5')(layer5)\n",
    "layer5 = Activation('relu')(layer5)\n",
    "layer5 = Dropout(0.2)(layer5)\n",
    "\n",
    "# Layer 6: Input => [10x10x**],**\n",
    "#          Output => [8x8x**],**\n",
    "layer6 = Conv2D(10, (3,3), name='conv_6')(layer5)\n",
    "layer6 = BatchNormalization(name='norm_6')(layer6)\n",
    "layer6 = Dropout(0.2)(layer6)\n",
    "\n",
    "# Layer 7: Input => [8x8x**],**\n",
    "#          Output => [3x3x**],**\n",
    "layer7 = Conv2D(10, (3,3), name='conv_7')(layer6)\n",
    "layer7 = BatchNormalization(name='norm_7')(layer7)\n",
    "layer7 = Dropout(0.2)(layer7)\n",
    "layer7 = MaxPooling2D(pool_size=(2, 2))(layer7)\n",
    "\n",
    "# Layer 8: Input => [3x3x**],**\n",
    "#          Output => [1x1x**],**\n",
    "layer8 = Conv2D(10, (3,3), name='conv_8')(layer7)\n",
    "layer8 = BatchNormalization(name='norm_8')(layer8)\n",
    "layer8 = Dropout(0.2)(layer8)\n",
    "\n",
    "# Layer 9\n",
    "layer9 = Flatten()(layer8)\n",
    "output = Dense(num_classes, activation='softmax')(layer9)\n",
    "\n",
    "\n",
    "model = Model(inputs=[input1], outputs=[output])\n",
    "model.summary()"
   ]
  },
  {
   "cell_type": "markdown",
   "metadata": {},
   "source": [
    "### Compile Model:"
   ]
  },
  {
   "cell_type": "code",
   "execution_count": 10,
   "metadata": {},
   "outputs": [],
   "source": [
    "model.compile(loss='categorical_crossentropy',\n",
    "             optimizer='sgd',\n",
    "             metrics=['accuracy'])"
   ]
  },
  {
   "cell_type": "markdown",
   "metadata": {},
   "source": [
    "### Train the Model:"
   ]
  },
  {
   "cell_type": "code",
   "execution_count": 11,
   "metadata": {},
   "outputs": [
    {
     "name": "stdout",
     "output_type": "stream",
     "text": [
      "Epoch 1/50\n",
      "60000/60000 [==============================] - 18s 302us/step - loss: 1.1353 - acc: 0.6552\n",
      "Epoch 2/50\n",
      "60000/60000 [==============================] - 16s 267us/step - loss: 0.5253 - acc: 0.8508\n",
      "Epoch 3/50\n",
      "60000/60000 [==============================] - 16s 268us/step - loss: 0.3728 - acc: 0.8904\n",
      "Epoch 4/50\n",
      "60000/60000 [==============================] - 16s 270us/step - loss: 0.3001 - acc: 0.9103\n",
      "Epoch 5/50\n",
      "60000/60000 [==============================] - 16s 269us/step - loss: 0.2573 - acc: 0.9232\n",
      "Epoch 6/50\n",
      "60000/60000 [==============================] - 16s 270us/step - loss: 0.2327 - acc: 0.9300\n",
      "Epoch 7/50\n",
      "60000/60000 [==============================] - 16s 272us/step - loss: 0.2172 - acc: 0.9339\n",
      "Epoch 8/50\n",
      "60000/60000 [==============================] - 16s 274us/step - loss: 0.1966 - acc: 0.9404\n",
      "Epoch 9/50\n",
      "60000/60000 [==============================] - 17s 276us/step - loss: 0.1904 - acc: 0.9417\n",
      "Epoch 10/50\n",
      "60000/60000 [==============================] - 17s 276us/step - loss: 0.1794 - acc: 0.9442\n",
      "Epoch 11/50\n",
      "60000/60000 [==============================] - 17s 280us/step - loss: 0.1721 - acc: 0.9473\n",
      "Epoch 12/50\n",
      "60000/60000 [==============================] - 19s 324us/step - loss: 0.1663 - acc: 0.9484\n",
      "Epoch 13/50\n",
      "60000/60000 [==============================] - 20s 331us/step - loss: 0.1621 - acc: 0.9496\n",
      "Epoch 14/50\n",
      "60000/60000 [==============================] - 19s 316us/step - loss: 0.1553 - acc: 0.9521\n",
      "Epoch 15/50\n",
      "60000/60000 [==============================] - 18s 294us/step - loss: 0.1528 - acc: 0.9524\n",
      "Epoch 16/50\n",
      "60000/60000 [==============================] - 17s 291us/step - loss: 0.1492 - acc: 0.9549\n",
      "Epoch 17/50\n",
      "60000/60000 [==============================] - 19s 312us/step - loss: 0.1427 - acc: 0.9560\n",
      "Epoch 18/50\n",
      "60000/60000 [==============================] - 18s 297us/step - loss: 0.1429 - acc: 0.9560\n",
      "Epoch 19/50\n",
      "60000/60000 [==============================] - 18s 301us/step - loss: 0.1376 - acc: 0.9573\n",
      "Epoch 20/50\n",
      "60000/60000 [==============================] - 18s 301us/step - loss: 0.1365 - acc: 0.9581\n",
      "Epoch 21/50\n",
      "60000/60000 [==============================] - 18s 304us/step - loss: 0.1334 - acc: 0.9584\n",
      "Epoch 22/50\n",
      "60000/60000 [==============================] - 19s 317us/step - loss: 0.1295 - acc: 0.9603\n",
      "Epoch 23/50\n",
      "60000/60000 [==============================] - 18s 292us/step - loss: 0.1294 - acc: 0.9592\n",
      "Epoch 24/50\n",
      "60000/60000 [==============================] - 18s 298us/step - loss: 0.1254 - acc: 0.9619\n",
      "Epoch 25/50\n",
      "60000/60000 [==============================] - 19s 315us/step - loss: 0.1261 - acc: 0.9608\n",
      "Epoch 26/50\n",
      "60000/60000 [==============================] - 18s 304us/step - loss: 0.1242 - acc: 0.9610\n",
      "Epoch 27/50\n",
      "60000/60000 [==============================] - 18s 300us/step - loss: 0.1217 - acc: 0.9623\n",
      "Epoch 28/50\n",
      "60000/60000 [==============================] - 18s 304us/step - loss: 0.1212 - acc: 0.9623\n",
      "Epoch 29/50\n",
      "60000/60000 [==============================] - 17s 288us/step - loss: 0.1163 - acc: 0.9643\n",
      "Epoch 30/50\n",
      "60000/60000 [==============================] - 18s 292us/step - loss: 0.1174 - acc: 0.9636\n",
      "Epoch 31/50\n",
      "60000/60000 [==============================] - 18s 301us/step - loss: 0.1197 - acc: 0.9633\n",
      "Epoch 32/50\n",
      "60000/60000 [==============================] - 18s 302us/step - loss: 0.1136 - acc: 0.9648\n",
      "Epoch 33/50\n",
      "60000/60000 [==============================] - 18s 297us/step - loss: 0.1155 - acc: 0.9643\n",
      "Epoch 34/50\n",
      "60000/60000 [==============================] - 19s 313us/step - loss: 0.1110 - acc: 0.9651\n",
      "Epoch 35/50\n",
      "60000/60000 [==============================] - 18s 305us/step - loss: 0.1086 - acc: 0.9662\n",
      "Epoch 36/50\n",
      "60000/60000 [==============================] - 18s 299us/step - loss: 0.1094 - acc: 0.9668\n",
      "Epoch 37/50\n",
      "60000/60000 [==============================] - 18s 297us/step - loss: 0.1067 - acc: 0.9669\n",
      "Epoch 38/50\n",
      "60000/60000 [==============================] - 18s 308us/step - loss: 0.1092 - acc: 0.9657\n",
      "Epoch 39/50\n",
      "60000/60000 [==============================] - 18s 302us/step - loss: 0.1067 - acc: 0.9669\n",
      "Epoch 40/50\n",
      "60000/60000 [==============================] - 20s 328us/step - loss: 0.1057 - acc: 0.9674\n",
      "Epoch 41/50\n",
      "60000/60000 [==============================] - 18s 303us/step - loss: 0.1049 - acc: 0.9671\n",
      "Epoch 42/50\n",
      "60000/60000 [==============================] - 18s 302us/step - loss: 0.1015 - acc: 0.9687\n",
      "Epoch 43/50\n",
      "60000/60000 [==============================] - 17s 288us/step - loss: 0.1028 - acc: 0.9683\n",
      "Epoch 44/50\n",
      "60000/60000 [==============================] - 19s 318us/step - loss: 0.1033 - acc: 0.9681\n",
      "Epoch 45/50\n",
      "60000/60000 [==============================] - 18s 304us/step - loss: 0.1017 - acc: 0.9678\n",
      "Epoch 46/50\n",
      "60000/60000 [==============================] - 18s 307us/step - loss: 0.1015 - acc: 0.9687\n",
      "Epoch 47/50\n",
      "60000/60000 [==============================] - 18s 302us/step - loss: 0.1016 - acc: 0.9683\n",
      "Epoch 48/50\n",
      "60000/60000 [==============================] - 18s 295us/step - loss: 0.0990 - acc: 0.9694\n",
      "Epoch 49/50\n",
      "60000/60000 [==============================] - 18s 297us/step - loss: 0.1015 - acc: 0.9684\n",
      "Epoch 50/50\n",
      "60000/60000 [==============================] - 20s 331us/step - loss: 0.0943 - acc: 0.9712\n"
     ]
    },
    {
     "data": {
      "text/plain": [
       "<keras.callbacks.History at 0x235e0045710>"
      ]
     },
     "execution_count": 11,
     "metadata": {},
     "output_type": "execute_result"
    }
   ],
   "source": [
    "model.fit(X_train, y_train, batch_size=64, epochs=25, verbose=1)"
   ]
  },
  {
   "cell_type": "markdown",
   "metadata": {},
   "source": [
    "### Evalute:"
   ]
  },
  {
   "cell_type": "code",
   "execution_count": 14,
   "metadata": {},
   "outputs": [
    {
     "name": "stdout",
     "output_type": "stream",
     "text": [
      "98.09 %\n"
     ]
    }
   ],
   "source": [
    "score = model.evaluate(X_test, y_test, verbose=0)\n",
    "print(score[1]*100, '%')"
   ]
  },
  {
   "cell_type": "code",
   "execution_count": 15,
   "metadata": {},
   "outputs": [
    {
     "name": "stdout",
     "output_type": "stream",
     "text": [
      "[4.1441726e-03 6.8786321e-03 9.8894775e-01 1.1920223e-05 7.8576136e-07\n",
      " 3.0849616e-08 7.5123644e-06 7.7172726e-06 1.3836625e-06 6.4370738e-08]\n",
      "[0. 0. 1. 0. 0. 0. 0. 0. 0. 0.]\n"
     ]
    },
    {
     "data": {
      "text/plain": [
       "<matplotlib.image.AxesImage at 0x235c4cea8d0>"
      ]
     },
     "execution_count": 15,
     "metadata": {},
     "output_type": "execute_result"
    },
    {
     "data": {
      "image/png": "[encoded data removed]",
      "text/plain": [
       "<Figure size 432x288 with 1 Axes>"
      ]
     },
     "metadata": {},
     "output_type": "display_data"
    }
   ],
   "source": [
    "# manual test\n",
    "y_pred = model.predict(X_test)\n",
    "print(y_pred[1])\n",
    "print(y_test[1])\n",
    "\n",
    "X_test = X_test.reshape(X_test.shape[0], 28, 28)\n",
    "X_test *= 255\n",
    "%matplotlib inline\n",
    "plt.imshow(X_test[1], cmap='gray')"
   ]
  },
  {
   "cell_type": "markdown",
   "metadata": {},
   "source": [
    "### Save Model:"
   ]
  },
  {
   "cell_type": "code",
   "execution_count": 16,
   "metadata": {},
   "outputs": [],
   "source": [
    "model.save('version1.h5')"
   ]
  },
  {
   "cell_type": "markdown",
   "metadata": {},
   "source": [
    "### Load Model:"
   ]
  },
  {
   "cell_type": "code",
   "execution_count": 17,
   "metadata": {},
   "outputs": [],
   "source": [
    "from keras.models import load_model\n",
    "\n",
    "model1 = load_model('version1.h5')"
   ]
  },
  {
   "cell_type": "markdown",
   "metadata": {},
   "source": [
    "### Test loading test:"
   ]
  },
  {
   "cell_type": "code",
   "execution_count": 18,
   "metadata": {},
   "outputs": [
    {
     "name": "stdout",
     "output_type": "stream",
     "text": [
      "_________________________________________________________________\n",
      "Layer (type)                 Output Shape              Param #   \n",
      "=================================================================\n",
      "input_1 (InputLayer)         (None, 28, 28, 1)         0         \n",
      "_________________________________________________________________\n",
      "conv_1 (Conv2D)              (None, 26, 26, 32)        320       \n",
      "_________________________________________________________________\n",
      "norm_1 (BatchNormalization)  (None, 26, 26, 32)        128       \n",
      "_________________________________________________________________\n",
      "activation_1 (Activation)    (None, 26, 26, 32)        0         \n",
      "_________________________________________________________________\n",
      "dropout_1 (Dropout)          (None, 26, 26, 32)        0         \n",
      "_________________________________________________________________\n",
      "conv_2 (Conv2D)              (None, 24, 24, 16)        4624      \n",
      "_________________________________________________________________\n",
      "norm_2 (BatchNormalization)  (None, 24, 24, 16)        64        \n",
      "_________________________________________________________________\n",
      "activation_2 (Activation)    (None, 24, 24, 16)        0         \n",
      "_________________________________________________________________\n",
      "dropout_2 (Dropout)          (None, 24, 24, 16)        0         \n",
      "_________________________________________________________________\n",
      "conv_3 (Conv2D)              (None, 24, 24, 32)        544       \n",
      "_________________________________________________________________\n",
      "norm_3 (BatchNormalization)  (None, 24, 24, 32)        128       \n",
      "_________________________________________________________________\n",
      "max_pooling2d_1 (MaxPooling2 (None, 12, 12, 32)        0         \n",
      "_________________________________________________________________\n",
      "conv_4 (Conv2D)              (None, 10, 10, 32)        9248      \n",
      "_________________________________________________________________\n",
      "norm_4 (BatchNormalization)  (None, 10, 10, 32)        128       \n",
      "_________________________________________________________________\n",
      "dropout_3 (Dropout)          (None, 10, 10, 32)        0         \n",
      "_________________________________________________________________\n",
      "conv_5 (Conv2D)              (None, 10, 10, 10)        330       \n",
      "_________________________________________________________________\n",
      "norm_5 (BatchNormalization)  (None, 10, 10, 10)        40        \n",
      "_________________________________________________________________\n",
      "activation_3 (Activation)    (None, 10, 10, 10)        0         \n",
      "_________________________________________________________________\n",
      "dropout_4 (Dropout)          (None, 10, 10, 10)        0         \n",
      "_________________________________________________________________\n",
      "conv_6 (Conv2D)              (None, 8, 8, 10)          910       \n",
      "_________________________________________________________________\n",
      "norm_6 (BatchNormalization)  (None, 8, 8, 10)          40        \n",
      "_________________________________________________________________\n",
      "dropout_5 (Dropout)          (None, 8, 8, 10)          0         \n",
      "_________________________________________________________________\n",
      "conv_7 (Conv2D)              (None, 6, 6, 10)          910       \n",
      "_________________________________________________________________\n",
      "norm_7 (BatchNormalization)  (None, 6, 6, 10)          40        \n",
      "_________________________________________________________________\n",
      "dropout_6 (Dropout)          (None, 6, 6, 10)          0         \n",
      "_________________________________________________________________\n",
      "max_pooling2d_2 (MaxPooling2 (None, 3, 3, 10)          0         \n",
      "_________________________________________________________________\n",
      "conv_8 (Conv2D)              (None, 1, 1, 10)          910       \n",
      "_________________________________________________________________\n",
      "norm_8 (BatchNormalization)  (None, 1, 1, 10)          40        \n",
      "_________________________________________________________________\n",
      "dropout_7 (Dropout)          (None, 1, 1, 10)          0         \n",
      "_________________________________________________________________\n",
      "flatten_1 (Flatten)          (None, 10)                0         \n",
      "_________________________________________________________________\n",
      "dense_1 (Dense)              (None, 10)                110       \n",
      "=================================================================\n",
      "Total params: 18,514\n",
      "Trainable params: 18,210\n",
      "Non-trainable params: 304\n",
      "_________________________________________________________________\n"
     ]
    }
   ],
   "source": [
    "model1.summary()"
   ]
  }
 ],
 "metadata": {
  "kernelspec": {
   "display_name": "GPU",
   "language": "python",
   "name": "gpu"
  },
  "language_info": {
   "codemirror_mode": {
    "name": "ipython",
    "version": 3
   },
   "file_extension": ".py",
   "mimetype": "text/x-python",
   "name": "python",
   "nbconvert_exporter": "python",
   "pygments_lexer": "ipython3",
   "version": "3.6.5"
  }
 },
 "nbformat": 4,
 "nbformat_minor": 2
}
