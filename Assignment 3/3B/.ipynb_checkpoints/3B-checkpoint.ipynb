{
 "cells": [
  {
   "cell_type": "code",
   "execution_count": 1,
   "metadata": {
    "colab": {
     "base_uri": "https://localhost:8080/",
     "height": 34
    },
    "colab_type": "code",
    "id": "8edSiHPi2N5l",
    "outputId": "01e5ba65-64fe-4f5d-8ef5-03d35efdfa4d"
   },
   "outputs": [
    {
     "name": "stderr",
     "output_type": "stream",
     "text": [
      "notebook 5.4.0 requires ipykernel, which is not installed.\n",
      "jupyter 1.0.0 requires ipykernel, which is not installed.\n",
      "jupyter-console 5.2.0 requires ipykernel, which is not installed.\n",
      "ipywidgets 7.1.1 requires ipykernel>=4.5.1, which is not installed.\n",
      "You are using pip version 10.0.1, however version 18.1 is available.\n",
      "You should consider upgrading via the 'python -m pip install --upgrade pip' command.\n",
      "Using TensorFlow backend.\n"
     ]
    }
   ],
   "source": [
    "# https://keras.io/\n",
    "!pip install -q keras\n",
    "import keras\n",
    "\n",
    "import keras\n",
    "from keras.datasets import cifar10\n",
    "from keras.models import Model, Sequential\n",
    "from keras.layers import Dense, Dropout, Flatten, Input, AveragePooling2D, merge, Activation\n",
    "from keras.layers import Conv2D, MaxPooling2D, BatchNormalization\n",
    "from keras.layers import Concatenate\n",
    "from keras.optimizers import Adam\n",
    "from keras.layers.advanced_activations import LeakyReLU\n",
    "from keras.layers import Reshape, Activation, Conv2D, Input, MaxPooling2D, BatchNormalization, Flatten, Dense, Lambda\n",
    "from keras.layers.merge import concatenate\n",
    "\n",
    "# this part will prevent tensorflow to allocate all the avaliable GPU Memory\n",
    "# backend\n",
    "import tensorflow as tf\n",
    "from keras import backend as k\n",
    "\n",
    "# Don't pre-allocate memory; allocate as-needed\n",
    "config = tf.ConfigProto()\n",
    "config.gpu_options.allow_growth = True\n",
    "\n",
    "# Create a session with the above options specified.\n",
    "k.tensorflow_backend.set_session(tf.Session(config=config))\n",
    "\n",
    "# Hyperparameters\n",
    "batch_size = 128\n",
    "num_classes = 10\n",
    "epochs = 30\n",
    "l = 10\n",
    "num_filter = 20"
   ]
  },
  {
   "cell_type": "code",
   "execution_count": 2,
   "metadata": {
    "colab": {
     "base_uri": "https://localhost:8080/",
     "height": 51
    },
    "colab_type": "code",
    "id": "-hkvQwOH2cCO",
    "outputId": "402a5896-213e-47bf-e2f6-25b0d6fc70f4"
   },
   "outputs": [],
   "source": [
    "# Load CIFAR10 Data\n",
    "(x_train, y_train), (x_test, y_test) = cifar10.load_data()\n",
    "img_height, img_width, channel = x_train.shape[1],x_train.shape[2],x_train.shape[3]\n",
    "\n",
    "# convert to one hot encoing \n",
    "y_train = keras.utils.to_categorical(y_train, num_classes)\n",
    "y_test = keras.utils.to_categorical(y_test, num_classes)"
   ]
  },
  {
   "cell_type": "code",
   "execution_count": 3,
   "metadata": {
    "colab": {},
    "colab_type": "code",
    "id": "ztoDypc63gEs"
   },
   "outputs": [],
   "source": [
    "def space_to_depth_x2(x):\n",
    "    return tf.space_to_depth(x, block_size=2)"
   ]
  },
  {
   "cell_type": "code",
   "execution_count": 4,
   "metadata": {
    "colab": {},
    "colab_type": "code",
    "id": "SNnGm8Tv2fR1"
   },
   "outputs": [],
   "source": [
    "input = Input(shape=(img_height, img_width, channel,))\n",
    "\n",
    "# Layer 1\n",
    "layer_1 = Conv2D(32, (3,3), strides=(1,1), padding='same', name='conv_1', use_bias=False)(input)\n",
    "layer_1 = BatchNormalization(name='norm_1')(layer_1)\n",
    "layer_1 = LeakyReLU(alpha=0.1)(layer_1)\n",
    "layer_1 = MaxPooling2D(pool_size=(2, 2))(layer_1)\n",
    "\n",
    "# Layer 2\n",
    "layer_2 = Conv2D(64, (3,3), strides=(1,1), padding='same', name='conv_2', use_bias=False)(layer_1)\n",
    "layer_2 = BatchNormalization(name='norm_2')(layer_2)\n",
    "layer_2 = LeakyReLU(alpha=0.1)(layer_2)\n",
    "layer_2 = MaxPooling2D(pool_size=(2, 2))(layer_2)\n",
    "\n",
    "# Layer 3\n",
    "layer_3 = Conv2D(128, (3,3), strides=(1,1), padding='same', name='conv_3', use_bias=False)(layer_2)\n",
    "layer_3 = BatchNormalization(name='norm_3')(layer_3)\n",
    "layer_3 = LeakyReLU(alpha=0.1)(layer_3)\n",
    "\n",
    "# Layer 4\n",
    "layer_4 = Conv2D(64, (1,1), strides=(1,1), padding='same', name='conv_4', use_bias=False)(layer_3)\n",
    "layer_4 = BatchNormalization(name='norm_4')(layer_4)\n",
    "layer_4 = LeakyReLU(alpha=0.1)(layer_4)\n",
    "\n",
    "# Layer 5\n",
    "layer_5 = Conv2D(128, (3,3), strides=(1,1), padding='same', name='conv_5', use_bias=False)(layer_4)\n",
    "layer_5 = BatchNormalization(name='norm_5')(layer_5)\n",
    "layer_5 = LeakyReLU(alpha=0.1)(layer_5)\n",
    "layer_5 = MaxPooling2D(pool_size=(2, 2))(layer_5)\n",
    "\n",
    "# Layer 6\n",
    "layer_6 = Conv2D(256, (3,3), strides=(1,1), padding='same', name='conv_6', use_bias=False)(layer_5)\n",
    "layer_6 = BatchNormalization(name='norm_6')(layer_6)\n",
    "layer_6 = LeakyReLU(alpha=0.1)(layer_6)\n",
    "\n",
    "# Layer 7\n",
    "layer_7 = Conv2D(128, (1,1), strides=(1,1), padding='same', name='conv_7', use_bias=False)(layer_6)\n",
    "layer_7 = BatchNormalization(name='norm_7')(layer_7)\n",
    "layer_7 = LeakyReLU(alpha=0.1)(layer_7)\n",
    "\n",
    "# Layer 8\n",
    "layer_8 = Conv2D(256, (3,3), strides=(1,1), padding='same', name='conv_8', use_bias=False)(layer_7)\n",
    "layer_8 = BatchNormalization(name='norm_8')(layer_8)\n",
    "layer_8 = LeakyReLU(alpha=0.1)(layer_8)\n",
    "layer_8 = MaxPooling2D(pool_size=(2, 2))(layer_8)\n",
    "\n",
    "# Layer 9\n",
    "layer_9 = Conv2D(512, (3,3), strides=(1,1), padding='same', name='conv_9', use_bias=False)(layer_8)\n",
    "layer_9 = BatchNormalization(name='norm_9')(layer_9)from keras.models import Sequential\n",
    "layer_9 = LeakyReLU(alpha=0.1)(layer_9)\n",
    "\n",
    "# Layer 10\n",
    "layer_10 = Conv2D(256, (1,1), strides=(1,1), padding='same', name='conv_10', use_bias=False)(layer_9)\n",
    "layer_10 = BatchNormalization(name='norm_10')(layer_10)\n",
    "layer_10 = LeakyReLU(alpha=0.1)(layer_10)\n",
    "\n",
    "# Layer 11\n",
    "layer_11 = Conv2D(512, (3,3), strides=(1,1), padding='same', name='conv_11', use_bias=False)(layer_10)\n",
    "layer_11 = BatchNormalization(name='norm_11')(layer_11)\n",
    "layer_11 = LeakyReLU(alpha=0.1)(layer_11)\n",
    "\n",
    "# Layer 12\n",
    "layer_12 = Conv2D(256, (1,1), strides=(1,1), padding='same', name='conv_12', use_bias=False)(layer_11)\n",
    "layer_12 = BatchNormalization(name='norm_12')(layer_12)\n",
    "layer_12 = LeakyReLU(alpha=0.1)(layer_12)\n",
    "\n",
    "skip_connection = layer_12\n",
    "\n",
    "# Layer 13\n",
    "layer_13 = Conv2D(512, (3,3), strides=(1,1), padding='same', name='conv_13', use_bias=False)(layer_12)\n",
    "layer_13 = BatchNormalization(name='norm_13')(layer_13)\n",
    "layer_13 = LeakyReLU(alpha=0.1)(layer_13)\n",
    "layer_13 = MaxPooling2D(pool_size=(2, 2))(layer_13)\n",
    "\n",
    "# Layer 14\n",
    "layer_14 = Conv2D(1024, (3,3), strides=(1,1), padding='same', name='conv_14', use_bias=False)(layer_13)\n",
    "layer_14 = BatchNormalization(name='norm_14')(layer_14)\n",
    "layer_14 = LeakyReLU(alpha=0.1)(layer_14)\n",
    "\n",
    "# Layer 15\n",
    "layer_15 = Conv2D(512, (1,1), strides=(1,1), padding='same', name='conv_15', use_bias=False)(layer_14)\n",
    "layer_15 = BatchNormalization(name='norm_15')(layer_15)\n",
    "layer_15 = LeakyReLU(alpha=0.1)(layer_15)\n",
    "\n",
    "# Layer 16\n",
    "layer_16 = Conv2D(1024, (3,3), strides=(1,1), padding='same', name='conv_16', use_bias=False)(layer_15)\n",
    "layer_16 = BatchNormalization(name='norm_16')(layer_16)\n",
    "layer_16 = LeakyReLU(alpha=0.1)(layer_16)\n",
    "\n",
    "# Layer 17\n",
    "layer_17 = Conv2D(512, (1,1), strides=(1,1), padding='same', name='conv_17', use_bias=False)(layer_16)\n",
    "layer_17 = BatchNormalization(name='norm_17')(layer_17)\n",
    "layer_17 = LeakyReLU(alpha=0.1)(layer_17)\n",
    "\n",
    "# Layer 18\n",
    "layer_18 = Conv2D(1024, (3,3), strides=(1,1), padding='same', name='conv_18', use_bias=False)(layer_17)\n",
    "layer_18 = BatchNormalization(name='norm_18')(layer_18)\n",
    "layer_18 = LeakyReLU(alpha=0.1)(layer_18)\n",
    "\n",
    "# Layer 19\n",
    "layer_19 = Conv2D(1024, (3,3), strides=(1,1), padding='same', name='conv_19', use_bias=False)(layer_18)\n",
    "layer_19 = BatchNormalization(name='norm_19')(layer_19)\n",
    "layer_19 = LeakyReLU(alpha=0.1)(layer_19)\n",
    "\n",
    "# Layer 20\n",
    "layer_20 = Conv2D(1024, (3,3), strides=(1,1), padding='same', name='conv_20', use_bias=False)(layer_19)\n",
    "layer_20 = BatchNormalization(name='norm_20')(layer_20)\n",
    "layer_20 = LeakyReLU(alpha=0.1)(layer_20)\n",
    "\n",
    "# Layer 21\n",
    "skip_connection = Conv2D(64, (1,1), strides=(1,1), padding='same', name='conv_21', use_bias=False)(skip_connection)\n",
    "skip_connection = BatchNormalization(name='norm_21')(skip_connection)\n",
    "skip_connection = LeakyReLU(alpha=0.1)(skip_connection)\n",
    "skip_connection = Lambda(space_to_depth_x2)(skip_connection)\n",
    "\n",
    "layer_21 = concatenate([skip_connection, layer_20])\n",
    "\n",
    "# Layer 22\n",
    "layer_22 = Conv2D(1024, (3,3), strides=(1,1), padding='same', name='conv_22', use_bias=False)(layer_21)\n",
    "layer_22 = BatchNormalization(name='norm_22')(layer_22)\n",
    "layer_22 = LeakyReLU(alpha=0.1)(layer_22)\n",
    "\n",
    "# Layer 23\n",
    "layer_23 = Flatten()(layer_22)\n",
    "\n",
    "output = Dense(num_classes, activation='softmax')(layer_23)\n"
   ]
  },
  {
   "cell_type": "code",
   "execution_count": 5,
   "metadata": {
    "colab": {
     "base_uri": "https://localhost:8080/",
     "height": 2737
    },
    "colab_type": "code",
    "id": "Jeh0VAxy26NV",
    "outputId": "5f7dd604-d423-44e1-ad3a-f3b6bd0a3261"
   },
   "outputs": [
    {
     "name": "stdout",
     "output_type": "stream",
     "text": [
      "__________________________________________________________________________________________________\n",
      "Layer (type)                    Output Shape         Param #     Connected to                     \n",
      "==================================================================================================\n",
      "input_1 (InputLayer)            (None, 32, 32, 3)    0                                            \n",
      "__________________________________________________________________________________________________\n",
      "conv_1 (Conv2D)                 (None, 32, 32, 32)   864         input_1[0][0]                    \n",
      "__________________________________________________________________________________________________\n",
      "norm_1 (BatchNormalization)     (None, 32, 32, 32)   128         conv_1[0][0]                     \n",
      "__________________________________________________________________________________________________\n",
      "leaky_re_lu_1 (LeakyReLU)       (None, 32, 32, 32)   0           norm_1[0][0]                     \n",
      "__________________________________________________________________________________________________\n",
      "max_pooling2d_1 (MaxPooling2D)  (None, 16, 16, 32)   0           leaky_re_lu_1[0][0]              \n",
      "__________________________________________________________________________________________________\n",
      "conv_2 (Conv2D)                 (None, 16, 16, 64)   18432       max_pooling2d_1[0][0]            \n",
      "__________________________________________________________________________________________________\n",
      "norm_2 (BatchNormalization)     (None, 16, 16, 64)   256         conv_2[0][0]                     \n",
      "__________________________________________________________________________________________________\n",
      "leaky_re_lu_2 (LeakyReLU)       (None, 16, 16, 64)   0           norm_2[0][0]                     \n",
      "__________________________________________________________________________________________________\n",
      "max_pooling2d_2 (MaxPooling2D)  (None, 8, 8, 64)     0           leaky_re_lu_2[0][0]              \n",
      "__________________________________________________________________________________________________\n",
      "conv_3 (Conv2D)                 (None, 8, 8, 128)    73728       max_pooling2d_2[0][0]            \n",
      "__________________________________________________________________________________________________\n",
      "norm_3 (BatchNormalization)     (None, 8, 8, 128)    512         conv_3[0][0]                     \n",
      "__________________________________________________________________________________________________\n",
      "leaky_re_lu_3 (LeakyReLU)       (None, 8, 8, 128)    0           norm_3[0][0]                     \n",
      "__________________________________________________________________________________________________\n",
      "conv_4 (Conv2D)                 (None, 8, 8, 64)     8192        leaky_re_lu_3[0][0]              \n",
      "__________________________________________________________________________________________________\n",
      "norm_4 (BatchNormalization)     (None, 8, 8, 64)     256         conv_4[0][0]                     \n",
      "__________________________________________________________________________________________________\n",
      "leaky_re_lu_4 (LeakyReLU)       (None, 8, 8, 64)     0           norm_4[0][0]                     \n",
      "__________________________________________________________________________________________________\n",
      "conv_5 (Conv2D)                 (None, 8, 8, 128)    73728       leaky_re_lu_4[0][0]              \n",
      "__________________________________________________________________________________________________\n",
      "norm_5 (BatchNormalization)     (None, 8, 8, 128)    512         conv_5[0][0]                     \n",
      "__________________________________________________________________________________________________\n",
      "leaky_re_lu_5 (LeakyReLU)       (None, 8, 8, 128)    0           norm_5[0][0]                     \n",
      "__________________________________________________________________________________________________\n",
      "max_pooling2d_3 (MaxPooling2D)  (None, 4, 4, 128)    0           leaky_re_lu_5[0][0]              \n",
      "__________________________________________________________________________________________________\n",
      "conv_6 (Conv2D)                 (None, 4, 4, 256)    294912      max_pooling2d_3[0][0]            \n",
      "__________________________________________________________________________________________________\n",
      "norm_6 (BatchNormalization)     (None, 4, 4, 256)    1024        conv_6[0][0]                     \n",
      "__________________________________________________________________________________________________\n",
      "leaky_re_lu_6 (LeakyReLU)       (None, 4, 4, 256)    0           norm_6[0][0]                     \n",
      "__________________________________________________________________________________________________\n",
      "conv_7 (Conv2D)                 (None, 4, 4, 128)    32768       leaky_re_lu_6[0][0]              \n",
      "__________________________________________________________________________________________________\n",
      "norm_7 (BatchNormalization)     (None, 4, 4, 128)    512         conv_7[0][0]                     \n",
      "__________________________________________________________________________________________________\n",
      "leaky_re_lu_7 (LeakyReLU)       (None, 4, 4, 128)    0           norm_7[0][0]                     \n",
      "__________________________________________________________________________________________________\n",
      "conv_8 (Conv2D)                 (None, 4, 4, 256)    294912      leaky_re_lu_7[0][0]              \n",
      "__________________________________________________________________________________________________\n",
      "norm_8 (BatchNormalization)     (None, 4, 4, 256)    1024        conv_8[0][0]                     \n",
      "__________________________________________________________________________________________________\n",
      "leaky_re_lu_8 (LeakyReLU)       (None, 4, 4, 256)    0           norm_8[0][0]                     \n",
      "__________________________________________________________________________________________________\n",
      "max_pooling2d_4 (MaxPooling2D)  (None, 2, 2, 256)    0           leaky_re_lu_8[0][0]              \n",
      "__________________________________________________________________________________________________\n",
      "conv_9 (Conv2D)                 (None, 2, 2, 512)    1179648     max_pooling2d_4[0][0]            \n",
      "__________________________________________________________________________________________________\n",
      "norm_9 (BatchNormalization)     (None, 2, 2, 512)    2048        conv_9[0][0]                     \n",
      "__________________________________________________________________________________________________\n",
      "leaky_re_lu_9 (LeakyReLU)       (None, 2, 2, 512)    0           norm_9[0][0]                     \n",
      "__________________________________________________________________________________________________\n",
      "conv_10 (Conv2D)                (None, 2, 2, 256)    131072      leaky_re_lu_9[0][0]              \n",
      "__________________________________________________________________________________________________\n",
      "norm_10 (BatchNormalization)    (None, 2, 2, 256)    1024        conv_10[0][0]                    \n",
      "__________________________________________________________________________________________________\n",
      "leaky_re_lu_10 (LeakyReLU)      (None, 2, 2, 256)    0           norm_10[0][0]                    \n",
      "__________________________________________________________________________________________________\n",
      "conv_11 (Conv2D)                (None, 2, 2, 512)    1179648     leaky_re_lu_10[0][0]             \n",
      "__________________________________________________________________________________________________\n",
      "norm_11 (BatchNormalization)    (None, 2, 2, 512)    2048        conv_11[0][0]                    \n",
      "__________________________________________________________________________________________________\n",
      "leaky_re_lu_11 (LeakyReLU)      (None, 2, 2, 512)    0           norm_11[0][0]                    \n",
      "__________________________________________________________________________________________________\n",
      "conv_12 (Conv2D)                (None, 2, 2, 256)    131072      leaky_re_lu_11[0][0]             \n",
      "__________________________________________________________________________________________________\n",
      "norm_12 (BatchNormalization)    (None, 2, 2, 256)    1024        conv_12[0][0]                    \n",
      "__________________________________________________________________________________________________\n",
      "leaky_re_lu_12 (LeakyReLU)      (None, 2, 2, 256)    0           norm_12[0][0]                    \n",
      "__________________________________________________________________________________________________\n",
      "conv_13 (Conv2D)                (None, 2, 2, 512)    1179648     leaky_re_lu_12[0][0]             \n",
      "__________________________________________________________________________________________________\n",
      "norm_13 (BatchNormalization)    (None, 2, 2, 512)    2048        conv_13[0][0]                    \n",
      "__________________________________________________________________________________________________\n",
      "leaky_re_lu_13 (LeakyReLU)      (None, 2, 2, 512)    0           norm_13[0][0]                    \n",
      "__________________________________________________________________________________________________\n",
      "max_pooling2d_5 (MaxPooling2D)  (None, 1, 1, 512)    0           leaky_re_lu_13[0][0]             \n",
      "__________________________________________________________________________________________________\n",
      "conv_14 (Conv2D)                (None, 1, 1, 1024)   4718592     max_pooling2d_5[0][0]            \n",
      "__________________________________________________________________________________________________\n",
      "norm_14 (BatchNormalization)    (None, 1, 1, 1024)   4096        conv_14[0][0]                    \n",
      "__________________________________________________________________________________________________\n",
      "leaky_re_lu_14 (LeakyReLU)      (None, 1, 1, 1024)   0           norm_14[0][0]                    \n",
      "__________________________________________________________________________________________________\n",
      "conv_15 (Conv2D)                (None, 1, 1, 512)    524288      leaky_re_lu_14[0][0]             \n",
      "__________________________________________________________________________________________________\n",
      "norm_15 (BatchNormalization)    (None, 1, 1, 512)    2048        conv_15[0][0]                    \n",
      "__________________________________________________________________________________________________\n",
      "leaky_re_lu_15 (LeakyReLU)      (None, 1, 1, 512)    0           norm_15[0][0]                    \n",
      "__________________________________________________________________________________________________\n",
      "conv_16 (Conv2D)                (None, 1, 1, 1024)   4718592     leaky_re_lu_15[0][0]             \n",
      "__________________________________________________________________________________________________\n",
      "norm_16 (BatchNormalization)    (None, 1, 1, 1024)   4096        conv_16[0][0]                    \n",
      "__________________________________________________________________________________________________\n",
      "leaky_re_lu_16 (LeakyReLU)      (None, 1, 1, 1024)   0           norm_16[0][0]                    \n",
      "__________________________________________________________________________________________________\n",
      "conv_17 (Conv2D)                (None, 1, 1, 512)    524288      leaky_re_lu_16[0][0]             \n",
      "__________________________________________________________________________________________________\n",
      "norm_17 (BatchNormalization)    (None, 1, 1, 512)    2048        conv_17[0][0]                    \n",
      "__________________________________________________________________________________________________\n",
      "leaky_re_lu_17 (LeakyReLU)      (None, 1, 1, 512)    0           norm_17[0][0]                    \n",
      "__________________________________________________________________________________________________\n",
      "conv_18 (Conv2D)                (None, 1, 1, 1024)   4718592     leaky_re_lu_17[0][0]             \n",
      "__________________________________________________________________________________________________\n",
      "norm_18 (BatchNormalization)    (None, 1, 1, 1024)   4096        conv_18[0][0]                    \n",
      "__________________________________________________________________________________________________\n",
      "leaky_re_lu_18 (LeakyReLU)      (None, 1, 1, 1024)   0           norm_18[0][0]                    \n",
      "__________________________________________________________________________________________________\n",
      "conv_19 (Conv2D)                (None, 1, 1, 1024)   9437184     leaky_re_lu_18[0][0]             \n",
      "__________________________________________________________________________________________________\n",
      "norm_19 (BatchNormalization)    (None, 1, 1, 1024)   4096        conv_19[0][0]                    \n",
      "__________________________________________________________________________________________________\n",
      "conv_21 (Conv2D)                (None, 2, 2, 64)     16384       leaky_re_lu_12[0][0]             \n",
      "__________________________________________________________________________________________________\n",
      "leaky_re_lu_19 (LeakyReLU)      (None, 1, 1, 1024)   0           norm_19[0][0]                    \n",
      "__________________________________________________________________________________________________\n",
      "norm_21 (BatchNormalization)    (None, 2, 2, 64)     256         conv_21[0][0]                    \n",
      "__________________________________________________________________________________________________\n",
      "conv_20 (Conv2D)                (None, 1, 1, 1024)   9437184     leaky_re_lu_19[0][0]             \n",
      "__________________________________________________________________________________________________\n",
      "leaky_re_lu_21 (LeakyReLU)      (None, 2, 2, 64)     0           norm_21[0][0]                    \n",
      "__________________________________________________________________________________________________\n",
      "norm_20 (BatchNormalization)    (None, 1, 1, 1024)   4096        conv_20[0][0]                    \n",
      "__________________________________________________________________________________________________\n",
      "lambda_1 (Lambda)               (None, 1, 1, 256)    0           leaky_re_lu_21[0][0]             \n",
      "__________________________________________________________________________________________________\n",
      "leaky_re_lu_20 (LeakyReLU)      (None, 1, 1, 1024)   0           norm_20[0][0]                    \n",
      "__________________________________________________________________________________________________\n",
      "concatenate_1 (Concatenate)     (None, 1, 1, 1280)   0           lambda_1[0][0]                   \n",
      "                                                                 leaky_re_lu_20[0][0]             \n",
      "__________________________________________________________________________________________________\n",
      "conv_22 (Conv2D)                (None, 1, 1, 1024)   11796480    concatenate_1[0][0]              \n",
      "__________________________________________________________________________________________________\n",
      "norm_22 (BatchNormalization)    (None, 1, 1, 1024)   4096        conv_22[0][0]                    \n",
      "__________________________________________________________________________________________________\n",
      "leaky_re_lu_22 (LeakyReLU)      (None, 1, 1, 1024)   0           norm_22[0][0]                    \n",
      "__________________________________________________________________________________________________\n",
      "flatten_1 (Flatten)             (None, 1024)         0           leaky_re_lu_22[0][0]             \n",
      "__________________________________________________________________________________________________\n",
      "dense_1 (Dense)                 (None, 10)           10250       flatten_1[0][0]                  \n",
      "==================================================================================================\n",
      "Total params: 50,541,802\n",
      "Trainable params: 50,521,130\n",
      "Non-trainable params: 20,672\n",
      "__________________________________________________________________________________________________\n"
     ]
    }
   ],
   "source": [
    "model = Model(inputs=[input], outputs=[output])\n",
    "model.summary()"
   ]
  },
  {
   "cell_type": "markdown",
   "metadata": {},
   "source": [
    "![](YOLO.png)"
   ]
  },
  {
   "cell_type": "code",
   "execution_count": 6,
   "metadata": {
    "colab": {},
    "colab_type": "code",
    "id": "apCwOjvZ4Kts"
   },
   "outputs": [],
   "source": [
    "# determine Loss function and Optimizer\n",
    "model.compile(loss='categorical_crossentropy',\n",
    "              optimizer=Adam(),\n",
    "              metrics=['accuracy'])"
   ]
  },
  {
   "cell_type": "code",
   "execution_count": 7,
   "metadata": {
    "colab": {
     "base_uri": "https://localhost:8080/",
     "height": 2920
    },
    "colab_type": "code",
    "id": "tLaFy2AO4TLl",
    "outputId": "1c9b194d-e374-43d8-afba-53d734fb58e0"
   },
   "outputs": [
    {
     "name": "stdout",
     "output_type": "stream",
     "text": [
      "Train on 50000 samples, validate on 10000 samples\n",
      "Epoch 1/30\n",
      "50000/50000 [==============================] - 83s 2ms/step - loss: 1.4610 - acc: 0.4756 - val_loss: 2.0488 - val_acc: 0.4096\n",
      "Epoch 2/30\n",
      "50000/50000 [==============================] - 75s 1ms/step - loss: 0.9814 - acc: 0.6526 - val_loss: 2.0365 - val_acc: 0.4417\n",
      "Epoch 3/30\n",
      "50000/50000 [==============================] - 73s 1ms/step - loss: 0.7771 - acc: 0.7290 - val_loss: 1.2322 - val_acc: 0.6094\n",
      "Epoch 4/30\n",
      "50000/50000 [==============================] - 74s 1ms/step - loss: 0.6550 - acc: 0.7734 - val_loss: 1.2522 - val_acc: 0.6391\n",
      "Epoch 5/30\n",
      "50000/50000 [==============================] - 73s 1ms/step - loss: 0.5613 - acc: 0.8067 - val_loss: 1.2457 - val_acc: 0.6215\n",
      "Epoch 6/30\n",
      "50000/50000 [==============================] - 73s 1ms/step - loss: 0.4773 - acc: 0.8353 - val_loss: 1.0656 - val_acc: 0.6771\n",
      "Epoch 7/30\n",
      "50000/50000 [==============================] - 73s 1ms/step - loss: 0.4107 - acc: 0.8589 - val_loss: 0.8281 - val_acc: 0.7370\n",
      "Epoch 8/30\n",
      "50000/50000 [==============================] - 73s 1ms/step - loss: 0.3532 - acc: 0.8779 - val_loss: 1.7044 - val_acc: 0.6244\n",
      "Epoch 9/30\n",
      "50000/50000 [==============================] - 73s 1ms/step - loss: 0.3050 - acc: 0.8948 - val_loss: 0.8960 - val_acc: 0.7478\n",
      "Epoch 10/30\n",
      "50000/50000 [==============================] - 73s 1ms/step - loss: 0.2570 - acc: 0.9114 - val_loss: 1.1251 - val_acc: 0.7032\n",
      "Epoch 11/30\n",
      "50000/50000 [==============================] - 73s 1ms/step - loss: 0.2226 - acc: 0.9228 - val_loss: 0.8136 - val_acc: 0.7685\n",
      "Epoch 12/30\n",
      "50000/50000 [==============================] - 73s 1ms/step - loss: 0.2057 - acc: 0.9289 - val_loss: 1.1064 - val_acc: 0.7265\n",
      "Epoch 13/30\n",
      "50000/50000 [==============================] - 73s 1ms/step - loss: 0.1741 - acc: 0.9392 - val_loss: 1.3279 - val_acc: 0.6989\n",
      "Epoch 14/30\n",
      "50000/50000 [==============================] - 73s 1ms/step - loss: 0.1413 - acc: 0.9505 - val_loss: 1.1819 - val_acc: 0.7253\n",
      "Epoch 15/30\n",
      "50000/50000 [==============================] - 73s 1ms/step - loss: 0.1287 - acc: 0.9552 - val_loss: 1.0482 - val_acc: 0.7471\n",
      "Epoch 16/30\n",
      "50000/50000 [==============================] - 73s 1ms/step - loss: 0.1228 - acc: 0.9577 - val_loss: 1.1885 - val_acc: 0.7313\n",
      "Epoch 17/30\n",
      "50000/50000 [==============================] - 74s 1ms/step - loss: 0.1064 - acc: 0.9626 - val_loss: 1.1523 - val_acc: 0.7483\n",
      "Epoch 18/30\n",
      "50000/50000 [==============================] - 73s 1ms/step - loss: 0.0942 - acc: 0.9676 - val_loss: 1.0435 - val_acc: 0.7664\n",
      "Epoch 19/30\n",
      "50000/50000 [==============================] - 73s 1ms/step - loss: 0.0884 - acc: 0.9690 - val_loss: 1.0692 - val_acc: 0.7611\n",
      "Epoch 20/30\n",
      "50000/50000 [==============================] - 73s 1ms/step - loss: 0.0939 - acc: 0.9671 - val_loss: 1.0904 - val_acc: 0.7623\n",
      "Epoch 21/30\n",
      "50000/50000 [==============================] - 73s 1ms/step - loss: 0.0860 - acc: 0.9706 - val_loss: 1.1688 - val_acc: 0.7494\n",
      "Epoch 22/30\n",
      "50000/50000 [==============================] - 75s 2ms/step - loss: 0.0707 - acc: 0.9759 - val_loss: 1.1538 - val_acc: 0.7666\n",
      "Epoch 23/30\n",
      "50000/50000 [==============================] - 75s 2ms/step - loss: 0.0679 - acc: 0.9762 - val_loss: 1.2410 - val_acc: 0.7584\n",
      "Epoch 24/30\n",
      "50000/50000 [==============================] - 76s 2ms/step - loss: 0.0678 - acc: 0.9762 - val_loss: 1.1735 - val_acc: 0.7649\n",
      "Epoch 25/30\n",
      "50000/50000 [==============================] - 75s 1ms/step - loss: 0.0627 - acc: 0.9783 - val_loss: 1.0423 - val_acc: 0.7772\n",
      "Epoch 26/30\n",
      "50000/50000 [==============================] - 74s 1ms/step - loss: 0.0637 - acc: 0.9783 - val_loss: 1.0911 - val_acc: 0.7827\n",
      "Epoch 27/30\n",
      "50000/50000 [==============================] - 74s 1ms/step - loss: 0.0644 - acc: 0.9783 - val_loss: 1.1075 - val_acc: 0.7613\n",
      "Epoch 28/30\n",
      "50000/50000 [==============================] - 74s 1ms/step - loss: 0.0575 - acc: 0.9799 - val_loss: 1.1182 - val_acc: 0.7681\n",
      "Epoch 29/30\n",
      "50000/50000 [==============================] - 74s 1ms/step - loss: 0.0518 - acc: 0.9821 - val_loss: 1.1651 - val_acc: 0.7768\n",
      "Epoch 30/30\n",
      "50000/50000 [==============================] - 74s 1ms/step - loss: 0.0505 - acc: 0.9827 - val_loss: 1.1714 - val_acc: 0.7736\n"
     ]
    },
    {
     "data": {
      "text/plain": [
       "<keras.callbacks.History at 0x15fa7083e48>"
      ]
     },
     "execution_count": 7,
     "metadata": {},
     "output_type": "execute_result"
    }
   ],
   "source": [
    "model.fit(x_train, y_train,\n",
    "                    batch_size=batch_size,\n",
    "                    epochs=epochs,\n",
    "                    verbose=1,\n",
    "                    validation_data=(x_test, y_test))"
   ]
  },
  {
   "cell_type": "code",
   "execution_count": 8,
   "metadata": {
    "colab": {
     "base_uri": "https://localhost:8080/",
     "height": 85
    },
    "colab_type": "code",
    "id": "pTfZIGrf4Uyd",
    "outputId": "645eb90b-d22c-4157-a963-bd528ef3b916"
   },
   "outputs": [
    {
     "name": "stdout",
     "output_type": "stream",
     "text": [
      "10000/10000 [==============================] - 8s 798us/step\n",
      "Test loss: 1.1713881929397583\n",
      "Test accuracy: 0.7736\n",
      "Saved the model to disk\n"
     ]
    }
   ],
   "source": [
    "# Test the model\n",
    "score = model.evaluate(x_test, y_test, verbose=1)\n",
    "print('Test loss:', score[0])\n",
    "print('Test accuracy:', score[1])\n",
    "# Save the trained weights in to .h5 format\n",
    "model.save_weights(\"3B.h5\")\n",
    "print(\"Saved the model to disk\")"
   ]
  },
  {
   "cell_type": "code",
   "execution_count": 9,
   "metadata": {
    "colab": {
     "base_uri": "https://localhost:8080/",
     "height": 979,
     "resources": {
      "http://localhost:18894/content/Yolo_Basic_model.h5": {
       "data": "CjwhRE9DVFlQRSBodG1sPgo8aHRtbCBsYW5nPWVuPgogIDxtZXRhIGNoYXJzZXQ9dXRmLTg+CiAgPG1ldGEgbmFtZT12aWV3cG9ydCBjb250ZW50PSJpbml0aWFsLXNjYWxlPTEsIG1pbmltdW0tc2NhbGU9MSwgd2lkdGg9ZGV2aWNlLXdpZHRoIj4KICA8dGl0bGU+RXJyb3IgNTA0IChHYXRld2F5IFRpbWVvdXQpISExPC90aXRsZT4KICA8c3R5bGU+CiAgICAqe21hcmdpbjowO3BhZGRpbmc6MH1odG1sLGNvZGV7Zm9udDoxNXB4LzIycHggYXJpYWwsc2Fucy1zZXJpZn1odG1se2JhY2tncm91bmQ6I2ZmZjtjb2xvcjojMjIyO3BhZGRpbmc6MTVweH1ib2R5e21hcmdpbjo3JSBhdXRvIDA7bWF4LXdpZHRoOjM5MHB4O21pbi1oZWlnaHQ6MTgwcHg7cGFkZGluZzozMHB4IDAgMTVweH0qID4gYm9keXtiYWNrZ3JvdW5kOnVybCgvL3d3dy5nb29nbGUuY29tL2ltYWdlcy9lcnJvcnMvcm9ib3QucG5nKSAxMDAlIDVweCBuby1yZXBlYXQ7cGFkZGluZy1yaWdodDoyMDVweH1we21hcmdpbjoxMXB4IDAgMjJweDtvdmVyZmxvdzpoaWRkZW59aW5ze2NvbG9yOiM3Nzc7dGV4dC1kZWNvcmF0aW9uOm5vbmV9YSBpbWd7Ym9yZGVyOjB9QG1lZGlhIHNjcmVlbiBhbmQgKG1heC13aWR0aDo3NzJweCl7Ym9keXtiYWNrZ3JvdW5kOm5vbmU7bWFyZ2luLXRvcDowO21heC13aWR0aDpub25lO3BhZGRpbmctcmlnaHQ6MH19I2xvZ297YmFja2dyb3VuZDp1cmwoLy93d3cuZ29vZ2xlLmNvbS9pbWFnZXMvbG9nb3MvZXJyb3JwYWdlL2Vycm9yX2xvZ28tMTUweDU0LnBuZykgbm8tcmVwZWF0O21hcmdpbi1sZWZ0Oi01cHh9QG1lZGlhIG9ubHkgc2NyZWVuIGFuZCAobWluLXJlc29sdXRpb246MTkyZHBpKXsjbG9nb3tiYWNrZ3JvdW5kOnVybCgvL3d3dy5nb29nbGUuY29tL2ltYWdlcy9sb2dvcy9lcnJvcnBhZ2UvZXJyb3JfbG9nby0xNTB4NTQtMngucG5nKSBuby1yZXBlYXQgMCUgMCUvMTAwJSAxMDAlOy1tb3otYm9yZGVyLWltYWdlOnVybCgvL3d3dy5nb29nbGUuY29tL2ltYWdlcy9sb2dvcy9lcnJvcnBhZ2UvZXJyb3JfbG9nby0xNTB4NTQtMngucG5nKSAwfX1AbWVkaWEgb25seSBzY3JlZW4gYW5kICgtd2Via2l0LW1pbi1kZXZpY2UtcGl4ZWwtcmF0aW86Mil7I2xvZ297YmFja2dyb3VuZDp1cmwoLy93d3cuZ29vZ2xlLmNvbS9pbWFnZXMvbG9nb3MvZXJyb3JwYWdlL2Vycm9yX2xvZ28tMTUweDU0LTJ4LnBuZykgbm8tcmVwZWF0Oy13ZWJraXQtYmFja2dyb3VuZC1zaXplOjEwMCUgMTAwJX19I2xvZ297ZGlzcGxheTppbmxpbmUtYmxvY2s7aGVpZ2h0OjU0cHg7d2lkdGg6MTUwcHh9CiAgPC9zdHlsZT4KICA8YSBocmVmPS8vd3d3Lmdvb2dsZS5jb20vPjxzcGFuIGlkPWxvZ28gYXJpYS1sYWJlbD1Hb29nbGU+PC9zcGFuPjwvYT4KICA8cD48Yj41MDQuPC9iPiA8aW5zPlRoYXTigJlzIGFuIGVycm9yLjwvaW5zPgogIDxwPiAgPGlucz5UaGF04oCZcyBhbGwgd2Uga25vdy48L2lucz4K",
       "headers": [
        [
         "content-length",
         "1455"
        ],
        [
         "content-type",
         "text/html; charset=utf-8"
        ]
       ],
       "ok": false,
       "status": 504,
       "status_text": ""
      }
     }
    },
    "colab_type": "code",
    "id": "Jiyb9TlVGsZs",
    "outputId": "c7521f27-d97c-424b-b271-c468dc25bd4c"
   },
   "outputs": [
    {
     "data": {
      "text/plain": [
       "4"
      ]
     },
     "execution_count": 9,
     "metadata": {},
     "output_type": "execute_result"
    }
   ],
   "source": [
    "# model.save_weights(\"Yolo_Basic_model2.h5\")\n",
    "# print(\"Saved the model to disk\")\n",
    "# from google.colab import files\n",
    "4\n",
    "# files.download('Yolo_Basic_model.h5')"
   ]
  }
 ],
 "metadata": {
  "accelerator": "GPU",
  "colab": {
   "name": "Yolo_Basic.ipynb",
   "provenance": [],
   "version": "0.3.2"
  },
  "kernelspec": {
   "display_name": "Python 3",
   "language": "python",
   "name": "python3"
  },
  "language_info": {
   "codemirror_mode": {
    "name": "ipython",
    "version": 3
   },
   "file_extension": ".py",
   "mimetype": "text/x-python",
   "name": "python",
   "nbconvert_exporter": "python",
   "pygments_lexer": "ipython3",
   "version": "3.6.4"
  }
 },
 "nbformat": 4,
 "nbformat_minor": 2
}
